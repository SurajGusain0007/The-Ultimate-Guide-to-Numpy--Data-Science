{
  "nbformat": 4,
  "nbformat_minor": 0,
  "metadata": {
    "colab": {
      "provenance": []
    },
    "kernelspec": {
      "name": "python3",
      "display_name": "Python 3"
    },
    "language_info": {
      "name": "python"
    }
  },
  "cells": [
    {
      "cell_type": "code",
      "execution_count": null,
      "metadata": {
        "id": "PwC_U6xIJwb8"
      },
      "outputs": [],
      "source": []
    },
    {
      "cell_type": "markdown",
      "source": [],
      "metadata": {
        "id": "Kwa6Iff_OcDk"
      }
    },
    {
      "cell_type": "code",
      "source": [
        "import numpy as np"
      ],
      "metadata": {
        "id": "7fdfDThJObb5"
      },
      "execution_count": 1,
      "outputs": []
    },
    {
      "cell_type": "markdown",
      "source": [
        "\n",
        "* The easiest way to define a new ndarray is to use the array() function, passing a Python list containing the elements to be included in it as an argument."
      ],
      "metadata": {
        "id": "mn8L3ejjOe0x"
      }
    },
    {
      "cell_type": "code",
      "source": [
        "arr=np.array([1,2,3])\n",
        "arr\n"
      ],
      "metadata": {
        "colab": {
          "base_uri": "https://localhost:8080/"
        },
        "id": "_gyjuohuOqEN",
        "outputId": "f68c9905-e7b8-4a18-b900-ae46a124b93b"
      },
      "execution_count": 2,
      "outputs": [
        {
          "output_type": "execute_result",
          "data": {
            "text/plain": [
              "array([1, 2, 3])"
            ]
          },
          "metadata": {},
          "execution_count": 2
        }
      ]
    },
    {
      "cell_type": "markdown",
      "source": [
        "* You can easily check that a newly created object is an ndarray by passing the new variable to the type() function."
      ],
      "metadata": {
        "id": "orUdZemNO4KS"
      }
    },
    {
      "cell_type": "code",
      "source": [
        "type(arr)"
      ],
      "metadata": {
        "colab": {
          "base_uri": "https://localhost:8080/"
        },
        "id": "nOOmhg6aPAVU",
        "outputId": "c33811d0-cf27-4dbe-e617-3436d3655631"
      },
      "execution_count": 3,
      "outputs": [
        {
          "output_type": "execute_result",
          "data": {
            "text/plain": [
              "numpy.ndarray"
            ]
          },
          "metadata": {},
          "execution_count": 3
        }
      ]
    },
    {
      "cell_type": "markdown",
      "source": [
        "* In order to know the associated dtype to the newly created ndarray, you have to use  dtype attribute."
      ],
      "metadata": {
        "id": "k6DhXgxYPYSh"
      }
    },
    {
      "cell_type": "code",
      "source": [
        "arr.dtype"
      ],
      "metadata": {
        "colab": {
          "base_uri": "https://localhost:8080/"
        },
        "id": "AGukMWpnPc11",
        "outputId": "952bb1de-75a2-4e2a-8687-d03854686570"
      },
      "execution_count": 4,
      "outputs": [
        {
          "output_type": "execute_result",
          "data": {
            "text/plain": [
              "dtype('int64')"
            ]
          },
          "metadata": {},
          "execution_count": 4
        }
      ]
    },
    {
      "cell_type": "markdown",
      "source": [
        "* To obtain these values from the corresponding array, it is sufficient to use the ndim attribute for getting the axes, the size attribute to know the array length, and the shape attribute to get its shape."
      ],
      "metadata": {
        "id": "xGeWnO77QDXY"
      }
    },
    {
      "cell_type": "code",
      "source": [
        "arr.ndim"
      ],
      "metadata": {
        "colab": {
          "base_uri": "https://localhost:8080/"
        },
        "id": "bSTadhLjQGpI",
        "outputId": "e20b77f4-3e53-47cf-d088-7cface17eab2"
      },
      "execution_count": 5,
      "outputs": [
        {
          "output_type": "execute_result",
          "data": {
            "text/plain": [
              "1"
            ]
          },
          "metadata": {},
          "execution_count": 5
        }
      ]
    },
    {
      "cell_type": "code",
      "source": [
        "arr.size"
      ],
      "metadata": {
        "colab": {
          "base_uri": "https://localhost:8080/"
        },
        "id": "nRNkvQD8QGv6",
        "outputId": "25e0f05a-4bce-4ec8-bdb6-8bd67d4577aa"
      },
      "execution_count": 6,
      "outputs": [
        {
          "output_type": "execute_result",
          "data": {
            "text/plain": [
              "3"
            ]
          },
          "metadata": {},
          "execution_count": 6
        }
      ]
    },
    {
      "cell_type": "code",
      "source": [
        "arr.shape"
      ],
      "metadata": {
        "colab": {
          "base_uri": "https://localhost:8080/"
        },
        "id": "Fx9RDdMDQJpg",
        "outputId": "a67136e3-1274-4795-ab7d-0c0bd8970f0b"
      },
      "execution_count": 7,
      "outputs": [
        {
          "output_type": "execute_result",
          "data": {
            "text/plain": [
              "(3,)"
            ]
          },
          "metadata": {},
          "execution_count": 7
        }
      ]
    },
    {
      "cell_type": "markdown",
      "source": [
        "* What you have just seen is the simplest case of a one-dimensional array. But the use \n",
        "of arrays can be easily extended to several dimensions. For example, if you define a two\u0002dimensional array 2x2:\n",
        "\n",
        "* Another important attribute is itemsize, which can be used with ndarray objects. It defines the size in bytes of each item in the array"
      ],
      "metadata": {
        "id": "Jh0_6mbATL7Y"
      }
    },
    {
      "cell_type": "code",
      "source": [
        "a=np.array([[1.2,2.3],[5.3,9.3]])\n",
        "a"
      ],
      "metadata": {
        "colab": {
          "base_uri": "https://localhost:8080/"
        },
        "id": "E1H3pKPuTNqR",
        "outputId": "d11f915b-88a3-4c92-dc48-2cba93432dc1"
      },
      "execution_count": 8,
      "outputs": [
        {
          "output_type": "execute_result",
          "data": {
            "text/plain": [
              "array([[1.2, 2.3],\n",
              "       [5.3, 9.3]])"
            ]
          },
          "metadata": {},
          "execution_count": 8
        }
      ]
    },
    {
      "cell_type": "code",
      "source": [
        "print(a.ndim)\n",
        "print(a.shape)\n",
        "print(a.size)\n",
        "print(a.itemsize)"
      ],
      "metadata": {
        "colab": {
          "base_uri": "https://localhost:8080/"
        },
        "id": "roXyg2IqTWTX",
        "outputId": "6bf9c97b-a9f2-416c-930a-3df22edfb61c"
      },
      "execution_count": 9,
      "outputs": [
        {
          "output_type": "stream",
          "name": "stdout",
          "text": [
            "2\n",
            "(2, 2)\n",
            "4\n",
            "8\n"
          ]
        }
      ]
    },
    {
      "cell_type": "code",
      "source": [],
      "metadata": {
        "id": "HG4UHbE5TWfg"
      },
      "execution_count": 9,
      "outputs": []
    },
    {
      "cell_type": "markdown",
      "source": [
        "* Create an Array\n",
        "* To create a new array, you can follow different paths. The most common path is the one you saw in the previous section through a list or sequence of lists as arguments to the array() function."
      ],
      "metadata": {
        "id": "welP4HInUSAd"
      }
    },
    {
      "cell_type": "markdown",
      "source": [
        "* The array() function, in addition to lists, can accept tuples and sequences of tuples"
      ],
      "metadata": {
        "id": "rWKQOsyOUgEE"
      }
    },
    {
      "cell_type": "code",
      "source": [
        "t=np.array(((1,2,3),(4,5,6),(7,8,9)))\n",
        "t"
      ],
      "metadata": {
        "colab": {
          "base_uri": "https://localhost:8080/"
        },
        "id": "BHQ4uPM4UiQq",
        "outputId": "d7cad142-80ad-405b-f4ea-b5023f03b3db"
      },
      "execution_count": 10,
      "outputs": [
        {
          "output_type": "execute_result",
          "data": {
            "text/plain": [
              "array([[1, 2, 3],\n",
              "       [4, 5, 6],\n",
              "       [7, 8, 9]])"
            ]
          },
          "metadata": {},
          "execution_count": 10
        }
      ]
    },
    {
      "cell_type": "code",
      "source": [
        "print(t.ndim)\n",
        "print(t.size)\n",
        "print(t.itemsize)\n",
        "print(t.shape)"
      ],
      "metadata": {
        "colab": {
          "base_uri": "https://localhost:8080/"
        },
        "id": "KRq7zRglTWjI",
        "outputId": "c5a28148-0e06-4496-a104-b93b6fab3c3a"
      },
      "execution_count": 11,
      "outputs": [
        {
          "output_type": "stream",
          "name": "stdout",
          "text": [
            "2\n",
            "9\n",
            "8\n",
            "(3, 3)\n"
          ]
        }
      ]
    },
    {
      "cell_type": "code",
      "source": [
        "l=np.array([[1,2,3],(3,4,5),[5,6,7]])\n",
        "l"
      ],
      "metadata": {
        "colab": {
          "base_uri": "https://localhost:8080/"
        },
        "id": "FUaP3FruVu4T",
        "outputId": "d7216920-7073-439d-989e-fbbf4f5fcb72"
      },
      "execution_count": 12,
      "outputs": [
        {
          "output_type": "execute_result",
          "data": {
            "text/plain": [
              "array([[1, 2, 3],\n",
              "       [3, 4, 5],\n",
              "       [5, 6, 7]])"
            ]
          },
          "metadata": {},
          "execution_count": 12
        }
      ]
    },
    {
      "cell_type": "code",
      "source": [
        "arr1=np.array([[[1,2],[5,6]],[[3,4],[9,0]]])\n",
        "arr1"
      ],
      "metadata": {
        "colab": {
          "base_uri": "https://localhost:8080/"
        },
        "id": "iGbsNy4NW4Hr",
        "outputId": "18c974db-6cb3-4543-9d10-42af1277d3a6"
      },
      "execution_count": 13,
      "outputs": [
        {
          "output_type": "execute_result",
          "data": {
            "text/plain": [
              "array([[[1, 2],\n",
              "        [5, 6]],\n",
              "\n",
              "       [[3, 4],\n",
              "        [9, 0]]])"
            ]
          },
          "metadata": {},
          "execution_count": 13
        }
      ]
    },
    {
      "cell_type": "code",
      "source": [
        "print(arr1.ndim)\n",
        "print(arr1.shape)\n",
        "print(arr1.size)\n",
        "print(arr1.itemsize)"
      ],
      "metadata": {
        "colab": {
          "base_uri": "https://localhost:8080/"
        },
        "id": "dLfGbucVY3im",
        "outputId": "7163a19c-0d66-4e22-fcde-54288d71eaf9"
      },
      "execution_count": 14,
      "outputs": [
        {
          "output_type": "stream",
          "name": "stdout",
          "text": [
            "3\n",
            "(2, 2, 2)\n",
            "8\n",
            "8\n"
          ]
        }
      ]
    },
    {
      "cell_type": "code",
      "source": [
        "l=np.array([[[[1,2,8],[3,4,9]]],[[[9,5,6],[7,7,8]]],[[[9,0,1],[67,78,87]]],[[[9,9,9],[0,0,0]]]],)\n",
        "l"
      ],
      "metadata": {
        "colab": {
          "base_uri": "https://localhost:8080/"
        },
        "id": "fWuPIrzCZyja",
        "outputId": "c25c15ff-b8fd-456c-dd47-cf9e9281d64a"
      },
      "execution_count": 15,
      "outputs": [
        {
          "output_type": "execute_result",
          "data": {
            "text/plain": [
              "array([[[[ 1,  2,  8],\n",
              "         [ 3,  4,  9]]],\n",
              "\n",
              "\n",
              "       [[[ 9,  5,  6],\n",
              "         [ 7,  7,  8]]],\n",
              "\n",
              "\n",
              "       [[[ 9,  0,  1],\n",
              "         [67, 78, 87]]],\n",
              "\n",
              "\n",
              "       [[[ 9,  9,  9],\n",
              "         [ 0,  0,  0]]]])"
            ]
          },
          "metadata": {},
          "execution_count": 15
        }
      ]
    },
    {
      "cell_type": "code",
      "source": [
        "print(l.ndim)\n",
        "print(l.shape)\n",
        "\n",
        "print(l.size)\n",
        "print(l.itemsize)"
      ],
      "metadata": {
        "colab": {
          "base_uri": "https://localhost:8080/"
        },
        "id": "dOSEz1iIa55-",
        "outputId": "8e0cf552-1a38-4b3e-e3a9-d8da88f2d9cb"
      },
      "execution_count": 16,
      "outputs": [
        {
          "output_type": "stream",
          "name": "stdout",
          "text": [
            "4\n",
            "(4, 1, 2, 3)\n",
            "24\n",
            "8\n"
          ]
        }
      ]
    },
    {
      "cell_type": "code",
      "source": [
        "str1=np.array([['a','b'],['c','d']])\n",
        "str1"
      ],
      "metadata": {
        "colab": {
          "base_uri": "https://localhost:8080/"
        },
        "id": "WmE7RCzrZyzP",
        "outputId": "c11f5dd3-e291-4d37-fdf5-9acaa205cb65"
      },
      "execution_count": 17,
      "outputs": [
        {
          "output_type": "execute_result",
          "data": {
            "text/plain": [
              "array([['a', 'b'],\n",
              "       ['c', 'd']], dtype='<U1')"
            ]
          },
          "metadata": {},
          "execution_count": 17
        }
      ]
    },
    {
      "cell_type": "markdown",
      "source": [
        "* dtype \n",
        "* By default, the array() function can associate \n",
        "the most suitable type according to the values contained in the sequence of lists or tuples. Actually, you can explicitly define the dtype using the dtype option as argument of the function"
      ],
      "metadata": {
        "id": "T8XMlUAfa6V_"
      }
    },
    {
      "cell_type": "markdown",
      "source": [
        "* For example, if you want to define an array with complex values, you can use the dtype option as follows:"
      ],
      "metadata": {
        "id": "NMEcKuQcbHGv"
      }
    },
    {
      "cell_type": "code",
      "source": [
        "f=np.array([[1,2,3],[4,5,6]],dtype=complex)\n",
        "f"
      ],
      "metadata": {
        "colab": {
          "base_uri": "https://localhost:8080/"
        },
        "id": "t4FfNmhibKm-",
        "outputId": "e53fce95-18c1-49b8-c030-7c4071d369b2"
      },
      "execution_count": 20,
      "outputs": [
        {
          "output_type": "execute_result",
          "data": {
            "text/plain": [
              "array([[1.+0.j, 2.+0.j, 3.+0.j],\n",
              "       [4.+0.j, 5.+0.j, 6.+0.j]])"
            ]
          },
          "metadata": {},
          "execution_count": 20
        }
      ]
    },
    {
      "cell_type": "markdown",
      "source": [
        "* The zeros() function, for example, creates a full array of zeros with dimensions defined by the shape argument. For example, to create a two-dimensional array 3x3, you can use:"
      ],
      "metadata": {
        "id": "Xa-yA10ZcC36"
      }
    },
    {
      "cell_type": "code",
      "source": [
        "z=np.zeros((3,3))\n",
        "z"
      ],
      "metadata": {
        "colab": {
          "base_uri": "https://localhost:8080/"
        },
        "id": "j2iTanM0cFnO",
        "outputId": "d9c3305b-cce3-4226-e766-de01bdae94cc"
      },
      "execution_count": 22,
      "outputs": [
        {
          "output_type": "execute_result",
          "data": {
            "text/plain": [
              "array([[0., 0., 0.],\n",
              "       [0., 0., 0.],\n",
              "       [0., 0., 0.]])"
            ]
          },
          "metadata": {},
          "execution_count": 22
        }
      ]
    },
    {
      "cell_type": "markdown",
      "source": [
        "* While the ones() function creates an array full of ones in a very similar way."
      ],
      "metadata": {
        "id": "52N1OwPDcRB_"
      }
    },
    {
      "cell_type": "code",
      "source": [
        "o=np.ones((3,3))\n",
        "o"
      ],
      "metadata": {
        "colab": {
          "base_uri": "https://localhost:8080/"
        },
        "id": "thYqFvXGcZNr",
        "outputId": "4df8bf30-6201-471e-bf92-783328608b22"
      },
      "execution_count": 23,
      "outputs": [
        {
          "output_type": "execute_result",
          "data": {
            "text/plain": [
              "array([[1., 1., 1.],\n",
              "       [1., 1., 1.],\n",
              "       [1., 1., 1.]])"
            ]
          },
          "metadata": {},
          "execution_count": 23
        }
      ]
    },
    {
      "cell_type": "markdown",
      "source": [
        "* By default, the two functions created arrays with the float64 data type. A feature that will be particularly useful is arange(). This function generates NumPy arrays with numerical sequences that respond to particular rules depending on the passed arguments.\n",
        "* For example, if you want to generate a sequence of values between 0 and 10, \n",
        "you will be passed only one argument to the function, that is the value with which you want to end the sequence."
      ],
      "metadata": {
        "id": "uO7AD0jCa6iV"
      }
    },
    {
      "cell_type": "code",
      "source": [
        "np.arange(0,10)"
      ],
      "metadata": {
        "colab": {
          "base_uri": "https://localhost:8080/"
        },
        "id": "BwhG5pnEc3HZ",
        "outputId": "e8b2a704-5fb1-43f8-b3eb-87c5b43bd6ed"
      },
      "execution_count": 24,
      "outputs": [
        {
          "output_type": "execute_result",
          "data": {
            "text/plain": [
              "array([0, 1, 2, 3, 4, 5, 6, 7, 8, 9])"
            ]
          },
          "metadata": {},
          "execution_count": 24
        }
      ]
    },
    {
      "cell_type": "code",
      "source": [
        "np.arange(0,10,2)"
      ],
      "metadata": {
        "colab": {
          "base_uri": "https://localhost:8080/"
        },
        "id": "Z8NFfeZ9Y2dm",
        "outputId": "168a35c3-37c2-4b67-b548-f75d1f526865"
      },
      "execution_count": 25,
      "outputs": [
        {
          "output_type": "execute_result",
          "data": {
            "text/plain": [
              "array([0, 2, 4, 6, 8])"
            ]
          },
          "metadata": {},
          "execution_count": 25
        }
      ]
    },
    {
      "cell_type": "code",
      "source": [
        "np.arange(0,6,0.6)"
      ],
      "metadata": {
        "colab": {
          "base_uri": "https://localhost:8080/"
        },
        "id": "0PbRc501dOoF",
        "outputId": "a12aada4-bc45-4877-8a6b-28a8e1a367bd"
      },
      "execution_count": 27,
      "outputs": [
        {
          "output_type": "execute_result",
          "data": {
            "text/plain": [
              "array([0. , 0.6, 1.2, 1.8, 2.4, 3. , 3.6, 4.2, 4.8, 5.4])"
            ]
          },
          "metadata": {},
          "execution_count": 27
        }
      ]
    },
    {
      "cell_type": "markdown",
      "source": [
        "* So far you have only created one-dimensional arrays. To generate two-dimensional arrays you can still continue to use the arange() function but combined with the reshape() function."
      ],
      "metadata": {
        "id": "mL8cSysFdf94"
      }
    },
    {
      "cell_type": "code",
      "source": [
        "np.arange(0,12).reshape(3,4)"
      ],
      "metadata": {
        "colab": {
          "base_uri": "https://localhost:8080/"
        },
        "id": "1C8wKUuDdilA",
        "outputId": "96042751-a07e-4e4c-c343-021d3dbd1d8a"
      },
      "execution_count": 29,
      "outputs": [
        {
          "output_type": "execute_result",
          "data": {
            "text/plain": [
              "array([[ 0,  1,  2,  3],\n",
              "       [ 4,  5,  6,  7],\n",
              "       [ 8,  9, 10, 11]])"
            ]
          },
          "metadata": {},
          "execution_count": 29
        }
      ]
    },
    {
      "cell_type": "markdown",
      "source": [
        "* Another function very similar to arange() is linspace(). This function still takes as its first two arguments the initial and end values of the sequence, but the third argument, instead of specifying the distance between one element and the next, defines the number of elements into which we want the interval to be split."
      ],
      "metadata": {
        "id": "OyJC9AKfeEr7"
      }
    },
    {
      "cell_type": "code",
      "source": [
        "np.linspace(1,10,5)"
      ],
      "metadata": {
        "colab": {
          "base_uri": "https://localhost:8080/"
        },
        "id": "lDqkn3gleLXj",
        "outputId": "10989dba-c57a-4b57-ac33-3b05cee53118"
      },
      "execution_count": 31,
      "outputs": [
        {
          "output_type": "execute_result",
          "data": {
            "text/plain": [
              "array([ 1.  ,  3.25,  5.5 ,  7.75, 10.  ])"
            ]
          },
          "metadata": {},
          "execution_count": 31
        }
      ]
    },
    {
      "cell_type": "markdown",
      "source": [
        "* Finally, another method to obtain arrays already containing values is to fill them with random values. This is possible using the random() function of the numpy.random module. This function will generate an array with many elements as specified in the argument"
      ],
      "metadata": {
        "id": "AuW3d3w1elT_"
      }
    },
    {
      "cell_type": "code",
      "source": [
        "np.random.random(3)"
      ],
      "metadata": {
        "colab": {
          "base_uri": "https://localhost:8080/"
        },
        "id": "S_VlDh5yghHp",
        "outputId": "368146c9-aa84-49dc-b8d0-33a74ee269c8"
      },
      "execution_count": 41,
      "outputs": [
        {
          "output_type": "execute_result",
          "data": {
            "text/plain": [
              "array([0.53046008, 0.86941318, 0.7485243 ])"
            ]
          },
          "metadata": {},
          "execution_count": 41
        }
      ]
    },
    {
      "cell_type": "markdown",
      "source": [
        "* The numbers obtained will vary with every run. To create a multidimensional array, you simply pass the size of the array as an argument"
      ],
      "metadata": {
        "id": "3F3PqsQIg7nj"
      }
    },
    {
      "cell_type": "code",
      "source": [
        "np.random.random((3,2))"
      ],
      "metadata": {
        "colab": {
          "base_uri": "https://localhost:8080/"
        },
        "id": "fFYEFlxHepSH",
        "outputId": "55e89deb-94c2-439d-de3d-b50127bff79d"
      },
      "execution_count": 43,
      "outputs": [
        {
          "output_type": "execute_result",
          "data": {
            "text/plain": [
              "array([[0.60065857, 0.1359936 ],\n",
              "       [0.35066549, 0.35950913],\n",
              "       [0.56206842, 0.54124603]])"
            ]
          },
          "metadata": {},
          "execution_count": 43
        }
      ]
    },
    {
      "cell_type": "markdown",
      "source": [
        "* Arithmetic Operators\n",
        "* The first operations that you will perform on arrays are the arithmetic operators. The most obvious are adding and multiplying an array by a scalar."
      ],
      "metadata": {
        "id": "72YU7u8rf7Dj"
      }
    },
    {
      "cell_type": "code",
      "source": [
        "a=np.arange(4)\n",
        "a"
      ],
      "metadata": {
        "colab": {
          "base_uri": "https://localhost:8080/"
        },
        "id": "ln6shZnQf95s",
        "outputId": "37bf7d5e-4622-4a77-b968-5370cda1bf30"
      },
      "execution_count": 35,
      "outputs": [
        {
          "output_type": "execute_result",
          "data": {
            "text/plain": [
              "array([0, 1, 2, 3])"
            ]
          },
          "metadata": {},
          "execution_count": 35
        }
      ]
    },
    {
      "cell_type": "code",
      "source": [
        "b=np.arange(5,9)\n",
        "b"
      ],
      "metadata": {
        "colab": {
          "base_uri": "https://localhost:8080/"
        },
        "id": "66V12HfmgLyO",
        "outputId": "871fe64a-bb5d-4cbe-961e-83845b37d7a6"
      },
      "execution_count": 38,
      "outputs": [
        {
          "output_type": "execute_result",
          "data": {
            "text/plain": [
              "array([5, 6, 7, 8])"
            ]
          },
          "metadata": {},
          "execution_count": 38
        }
      ]
    },
    {
      "cell_type": "code",
      "source": [
        "a+4"
      ],
      "metadata": {
        "colab": {
          "base_uri": "https://localhost:8080/"
        },
        "id": "gX0ZayuLgFpm",
        "outputId": "e3a5117b-cbc6-4154-bef2-b245a1eb8b26"
      },
      "execution_count": 36,
      "outputs": [
        {
          "output_type": "execute_result",
          "data": {
            "text/plain": [
              "array([4, 5, 6, 7])"
            ]
          },
          "metadata": {},
          "execution_count": 36
        }
      ]
    },
    {
      "cell_type": "code",
      "source": [
        "a*2"
      ],
      "metadata": {
        "colab": {
          "base_uri": "https://localhost:8080/"
        },
        "id": "Lz1TIlcxgH8a",
        "outputId": "4d795ac1-a3f3-48fe-dd76-9c1d40e1e657"
      },
      "execution_count": 37,
      "outputs": [
        {
          "output_type": "execute_result",
          "data": {
            "text/plain": [
              "array([0, 2, 4, 6])"
            ]
          },
          "metadata": {},
          "execution_count": 37
        }
      ]
    },
    {
      "cell_type": "code",
      "source": [
        "a+b"
      ],
      "metadata": {
        "colab": {
          "base_uri": "https://localhost:8080/"
        },
        "id": "eE2msoWKgFtt",
        "outputId": "96113bfb-d03c-42cf-8c83-d60dba42f9ce"
      },
      "execution_count": 39,
      "outputs": [
        {
          "output_type": "execute_result",
          "data": {
            "text/plain": [
              "array([ 5,  7,  9, 11])"
            ]
          },
          "metadata": {},
          "execution_count": 39
        }
      ]
    },
    {
      "cell_type": "markdown",
      "source": [
        "* Basic Operations\n",
        "* Arithmetic operators"
      ],
      "metadata": {
        "id": "6apJX-enhlrW"
      }
    },
    {
      "cell_type": "code",
      "source": [
        "c=np.arange(5)\n",
        "d=np.arange(6,11)\n"
      ],
      "metadata": {
        "id": "aji9K746hzM5"
      },
      "execution_count": 44,
      "outputs": []
    },
    {
      "cell_type": "code",
      "source": [
        "c+d"
      ],
      "metadata": {
        "colab": {
          "base_uri": "https://localhost:8080/"
        },
        "id": "PkhRpq9Hi4hd",
        "outputId": "456e0f9e-0008-49e6-849f-94fb615d435e"
      },
      "execution_count": 45,
      "outputs": [
        {
          "output_type": "execute_result",
          "data": {
            "text/plain": [
              "array([ 6,  8, 10, 12, 14])"
            ]
          },
          "metadata": {},
          "execution_count": 45
        }
      ]
    },
    {
      "cell_type": "code",
      "source": [
        "c-d"
      ],
      "metadata": {
        "colab": {
          "base_uri": "https://localhost:8080/"
        },
        "id": "izIyo0uKi89g",
        "outputId": "713daae1-d0b6-4ba0-af00-a9093b9dbb27"
      },
      "execution_count": 46,
      "outputs": [
        {
          "output_type": "execute_result",
          "data": {
            "text/plain": [
              "array([-6, -6, -6, -6, -6])"
            ]
          },
          "metadata": {},
          "execution_count": 46
        }
      ]
    },
    {
      "cell_type": "code",
      "source": [
        "c*d"
      ],
      "metadata": {
        "colab": {
          "base_uri": "https://localhost:8080/"
        },
        "id": "JRdVCqtbi-eU",
        "outputId": "6991c599-cb2e-40f7-84e0-ae6824265787"
      },
      "execution_count": 47,
      "outputs": [
        {
          "output_type": "execute_result",
          "data": {
            "text/plain": [
              "array([ 0,  7, 16, 27, 40])"
            ]
          },
          "metadata": {},
          "execution_count": 47
        }
      ]
    },
    {
      "cell_type": "code",
      "source": [
        "c/d"
      ],
      "metadata": {
        "colab": {
          "base_uri": "https://localhost:8080/"
        },
        "id": "F5evWDIHi_8Y",
        "outputId": "ef4785e7-daf4-4c70-c15d-08a33f52ed84"
      },
      "execution_count": 48,
      "outputs": [
        {
          "output_type": "execute_result",
          "data": {
            "text/plain": [
              "array([0.        , 0.14285714, 0.25      , 0.33333333, 0.4       ])"
            ]
          },
          "metadata": {},
          "execution_count": 48
        }
      ]
    },
    {
      "cell_type": "markdown",
      "source": [
        "![image.png](data:image/png;base64,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)"
      ],
      "metadata": {
        "id": "ifNWZjsgjFGQ"
      }
    },
    {
      "cell_type": "code",
      "source": [
        "a*np.sin(b)"
      ],
      "metadata": {
        "colab": {
          "base_uri": "https://localhost:8080/"
        },
        "id": "wMsc_VtjjGos",
        "outputId": "3cd6de7d-b754-4066-9103-a6089777d343"
      },
      "execution_count": 49,
      "outputs": [
        {
          "output_type": "execute_result",
          "data": {
            "text/plain": [
              "array([-0.        , -0.2794155 ,  1.3139732 ,  2.96807474])"
            ]
          },
          "metadata": {},
          "execution_count": 49
        }
      ]
    },
    {
      "cell_type": "code",
      "source": [
        "a*np.sqrt(b)"
      ],
      "metadata": {
        "colab": {
          "base_uri": "https://localhost:8080/"
        },
        "id": "zlyqSmi5j979",
        "outputId": "21709045-abd1-4035-8d79-f47108359924"
      },
      "execution_count": 50,
      "outputs": [
        {
          "output_type": "execute_result",
          "data": {
            "text/plain": [
              "array([0.        , 2.44948974, 5.29150262, 8.48528137])"
            ]
          },
          "metadata": {},
          "execution_count": 50
        }
      ]
    },
    {
      "cell_type": "markdown",
      "source": [
        "* The Matrix Product"
      ],
      "metadata": {
        "id": "y4IXPOr8lQPh"
      }
    },
    {
      "cell_type": "code",
      "source": [
        "a=np.arange(1,5).reshape(2,2)\n",
        "b=np.arange(5,9).reshape(2,2)\n"
      ],
      "metadata": {
        "id": "ZUPXWdq0lf5Z"
      },
      "execution_count": 54,
      "outputs": []
    },
    {
      "cell_type": "code",
      "source": [
        "a"
      ],
      "metadata": {
        "colab": {
          "base_uri": "https://localhost:8080/"
        },
        "id": "rRg-Vg5HlqHg",
        "outputId": "90c4bbbd-bf38-41c9-df03-6964809e3b1f"
      },
      "execution_count": 55,
      "outputs": [
        {
          "output_type": "execute_result",
          "data": {
            "text/plain": [
              "array([[1, 2],\n",
              "       [3, 4]])"
            ]
          },
          "metadata": {},
          "execution_count": 55
        }
      ]
    },
    {
      "cell_type": "code",
      "source": [
        "b"
      ],
      "metadata": {
        "colab": {
          "base_uri": "https://localhost:8080/"
        },
        "id": "k0kxHN3Plq9h",
        "outputId": "fa459121-6c1a-437f-b1dc-2b021458142e"
      },
      "execution_count": 56,
      "outputs": [
        {
          "output_type": "execute_result",
          "data": {
            "text/plain": [
              "array([[5, 6],\n",
              "       [7, 8]])"
            ]
          },
          "metadata": {},
          "execution_count": 56
        }
      ]
    },
    {
      "cell_type": "code",
      "source": [
        "np.dot(a,b)"
      ],
      "metadata": {
        "colab": {
          "base_uri": "https://localhost:8080/"
        },
        "id": "zOjWutcul5A_",
        "outputId": "a67c404b-6864-4096-95a4-cb03fa3016fd"
      },
      "execution_count": 57,
      "outputs": [
        {
          "output_type": "execute_result",
          "data": {
            "text/plain": [
              "array([[19, 22],\n",
              "       [43, 50]])"
            ]
          },
          "metadata": {},
          "execution_count": 57
        }
      ]
    },
    {
      "cell_type": "code",
      "source": [
        "a.dot(b)"
      ],
      "metadata": {
        "colab": {
          "base_uri": "https://localhost:8080/"
        },
        "id": "yBfvNl-CmBes",
        "outputId": "b4bc5ad3-9e19-48a9-e7f8-6dfdd48b9990"
      },
      "execution_count": 58,
      "outputs": [
        {
          "output_type": "execute_result",
          "data": {
            "text/plain": [
              "array([[19, 22],\n",
              "       [43, 50]])"
            ]
          },
          "metadata": {},
          "execution_count": 58
        }
      ]
    },
    {
      "cell_type": "code",
      "source": [
        "np.dot(b,a)"
      ],
      "metadata": {
        "colab": {
          "base_uri": "https://localhost:8080/"
        },
        "id": "LqYjZD2WmKWF",
        "outputId": "6e97bda7-e252-41bc-9874-87206e3d4b1a"
      },
      "execution_count": 59,
      "outputs": [
        {
          "output_type": "execute_result",
          "data": {
            "text/plain": [
              "array([[23, 34],\n",
              "       [31, 46]])"
            ]
          },
          "metadata": {},
          "execution_count": 59
        }
      ]
    },
    {
      "cell_type": "markdown",
      "source": [
        "* increment and Decrement Operators\n",
        "Actually, there are no such operators in Python, since there are no operators called ++ or ––. To increase or decrease values, you have to use operators such as += and –="
      ],
      "metadata": {
        "id": "RiwsPECCmgeJ"
      }
    },
    {
      "cell_type": "code",
      "source": [
        "a=np.arange(4)\n",
        "a"
      ],
      "metadata": {
        "colab": {
          "base_uri": "https://localhost:8080/"
        },
        "id": "Dd6X_80SmsC_",
        "outputId": "9ad6f6df-aa0c-46b3-f03f-c9423cf111e3"
      },
      "execution_count": 60,
      "outputs": [
        {
          "output_type": "execute_result",
          "data": {
            "text/plain": [
              "array([0, 1, 2, 3])"
            ]
          },
          "metadata": {},
          "execution_count": 60
        }
      ]
    },
    {
      "cell_type": "code",
      "source": [
        "a+=1\n",
        "a"
      ],
      "metadata": {
        "colab": {
          "base_uri": "https://localhost:8080/"
        },
        "id": "1iiiD3Vfm5mc",
        "outputId": "7b9e7bba-eba4-48c4-9af1-754254120a97"
      },
      "execution_count": 62,
      "outputs": [
        {
          "output_type": "execute_result",
          "data": {
            "text/plain": [
              "array([2, 3, 4, 5])"
            ]
          },
          "metadata": {},
          "execution_count": 62
        }
      ]
    },
    {
      "cell_type": "code",
      "source": [
        "b=np.arange(5)\n",
        "b"
      ],
      "metadata": {
        "colab": {
          "base_uri": "https://localhost:8080/"
        },
        "id": "jhhPfcaZnF-E",
        "outputId": "809197dc-71f9-43dd-9ec6-5e505626a502"
      },
      "execution_count": 63,
      "outputs": [
        {
          "output_type": "execute_result",
          "data": {
            "text/plain": [
              "array([0, 1, 2, 3, 4])"
            ]
          },
          "metadata": {},
          "execution_count": 63
        }
      ]
    },
    {
      "cell_type": "code",
      "source": [
        "b+=4\n",
        "b"
      ],
      "metadata": {
        "colab": {
          "base_uri": "https://localhost:8080/"
        },
        "id": "6MA9vCoOnLOW",
        "outputId": "6660fea2-3717-492d-e0c6-2ccb7f996abc"
      },
      "execution_count": 65,
      "outputs": [
        {
          "output_type": "execute_result",
          "data": {
            "text/plain": [
              "array([ 8,  9, 10, 11, 12])"
            ]
          },
          "metadata": {},
          "execution_count": 65
        }
      ]
    },
    {
      "cell_type": "code",
      "source": [
        "b*=2\n",
        "b"
      ],
      "metadata": {
        "colab": {
          "base_uri": "https://localhost:8080/"
        },
        "id": "wpEBU53Em-NP",
        "outputId": "75a412cc-b433-4ec1-ce27-5322d90fb488"
      },
      "execution_count": 67,
      "outputs": [
        {
          "output_type": "execute_result",
          "data": {
            "text/plain": [
              "array([12, 14, 16, 18, 20])"
            ]
          },
          "metadata": {},
          "execution_count": 67
        }
      ]
    },
    {
      "cell_type": "code",
      "source": [
        "b-=2\n",
        "b"
      ],
      "metadata": {
        "colab": {
          "base_uri": "https://localhost:8080/"
        },
        "id": "5fjaiFWimi8d",
        "outputId": "bb7c3457-d707-42f8-e556-87867d00fc13"
      },
      "execution_count": 66,
      "outputs": [
        {
          "output_type": "execute_result",
          "data": {
            "text/plain": [
              "array([ 6,  7,  8,  9, 10])"
            ]
          },
          "metadata": {},
          "execution_count": 66
        }
      ]
    },
    {
      "cell_type": "markdown",
      "source": [
        "* Universal Functions (ufunc)\n",
        "* A universal function, generally called ufunc, is a function operating on an array in an element-by-element fashion. This means that it acts individually on each single element of the input array to generate a corresponding result in a new output array. In the end, you obtain an array of the same size as the input.\n",
        "There are many mathematical and trigonometric operations that meet this \n",
        "definition; for example, calculating the square root with sqrt(), the logarithm with log(), or the sin with sin()."
      ],
      "metadata": {
        "id": "whPX5pY5oj4B"
      }
    },
    {
      "cell_type": "code",
      "source": [
        "a=np.arange(1,5)\n",
        "a"
      ],
      "metadata": {
        "colab": {
          "base_uri": "https://localhost:8080/"
        },
        "id": "wvOnm4aDost_",
        "outputId": "bca265cc-8789-4b66-e80a-2c867f30d324"
      },
      "execution_count": 70,
      "outputs": [
        {
          "output_type": "execute_result",
          "data": {
            "text/plain": [
              "array([1, 2, 3, 4])"
            ]
          },
          "metadata": {},
          "execution_count": 70
        }
      ]
    },
    {
      "cell_type": "code",
      "source": [
        "np.sqrt(a)"
      ],
      "metadata": {
        "colab": {
          "base_uri": "https://localhost:8080/"
        },
        "id": "pGzO_VwRo3x3",
        "outputId": "ee450102-7521-47a0-d699-ab6d10bd0d41"
      },
      "execution_count": 71,
      "outputs": [
        {
          "output_type": "execute_result",
          "data": {
            "text/plain": [
              "array([1.        , 1.41421356, 1.73205081, 2.        ])"
            ]
          },
          "metadata": {},
          "execution_count": 71
        }
      ]
    },
    {
      "cell_type": "code",
      "source": [
        "np.log(a)"
      ],
      "metadata": {
        "colab": {
          "base_uri": "https://localhost:8080/"
        },
        "id": "_eefKd48o5rX",
        "outputId": "f9506e6c-8d25-41b7-f1e3-8bb8eb172d53"
      },
      "execution_count": 72,
      "outputs": [
        {
          "output_type": "execute_result",
          "data": {
            "text/plain": [
              "array([0.        , 0.69314718, 1.09861229, 1.38629436])"
            ]
          },
          "metadata": {},
          "execution_count": 72
        }
      ]
    },
    {
      "cell_type": "code",
      "source": [
        "np.sin(a)"
      ],
      "metadata": {
        "colab": {
          "base_uri": "https://localhost:8080/"
        },
        "id": "1FIhl8Xko9AW",
        "outputId": "cf60e6d0-861b-4b54-a61c-c419ccaee976"
      },
      "execution_count": 73,
      "outputs": [
        {
          "output_type": "execute_result",
          "data": {
            "text/plain": [
              "array([ 0.84147098,  0.90929743,  0.14112001, -0.7568025 ])"
            ]
          },
          "metadata": {},
          "execution_count": 73
        }
      ]
    },
    {
      "cell_type": "markdown",
      "source": [
        "* Aggregate Functions\n",
        "* Aggregate functions perform an operation on a set of values, an array for example, and produce a single result. Therefore, the sum of all the elements in an array is an aggregate function. Many functions of this kind are implemented within the class ndarray"
      ],
      "metadata": {
        "id": "jerjACRvpFQv"
      }
    },
    {
      "cell_type": "code",
      "source": [
        "a=np.arange(1,7)\n",
        "a"
      ],
      "metadata": {
        "colab": {
          "base_uri": "https://localhost:8080/"
        },
        "id": "ldJz9bdBpJ2K",
        "outputId": "ab7d78fe-7a17-41b6-e97c-8b834cfc4e05"
      },
      "execution_count": 74,
      "outputs": [
        {
          "output_type": "execute_result",
          "data": {
            "text/plain": [
              "array([1, 2, 3, 4, 5, 6])"
            ]
          },
          "metadata": {},
          "execution_count": 74
        }
      ]
    },
    {
      "cell_type": "code",
      "source": [
        "print(a.sum())\n",
        "print(a.min())\n",
        "print(a.max())\n",
        "print(a.std())"
      ],
      "metadata": {
        "colab": {
          "base_uri": "https://localhost:8080/"
        },
        "id": "1lY9RKOjpi14",
        "outputId": "43ada147-ce11-471a-f7bf-e4ad91e4d3cc"
      },
      "execution_count": 75,
      "outputs": [
        {
          "output_type": "stream",
          "name": "stdout",
          "text": [
            "21\n",
            "1\n",
            "6\n",
            "1.707825127659933\n"
          ]
        }
      ]
    },
    {
      "cell_type": "markdown",
      "source": [
        "* Indexing, Slicing, and Iterating"
      ],
      "metadata": {
        "id": "f8BzfOzDqMZG"
      }
    },
    {
      "cell_type": "markdown",
      "source": [
        "* select elements with the help of indexex,slicing and iterating \n",
        "\n",
        "* Indexing\n",
        "Array indexing always uses square brackets ([ ]) to index the elements of the array so \n",
        "that the elements can then be referred individually for various, uses such as extracting a \n",
        "value, selecting items, or even assigning a new value."
      ],
      "metadata": {
        "id": "RvBcjwNqqQob"
      }
    },
    {
      "cell_type": "markdown",
      "source": [
        "![image.png](data:image/png;base64,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)"
      ],
      "metadata": {
        "id": "JsPF1mkarqev"
      }
    },
    {
      "cell_type": "markdown",
      "source": [
        "* In order to access a single element of an array, you can refer to its index"
      ],
      "metadata": {
        "id": "sbzQNv3asBQU"
      }
    },
    {
      "cell_type": "code",
      "source": [
        "a"
      ],
      "metadata": {
        "colab": {
          "base_uri": "https://localhost:8080/"
        },
        "id": "40oPg6bssC1m",
        "outputId": "25e0c1ba-e7bc-486e-f052-f13d832e32d0"
      },
      "execution_count": 76,
      "outputs": [
        {
          "output_type": "execute_result",
          "data": {
            "text/plain": [
              "array([1, 2, 3, 4, 5, 6])"
            ]
          },
          "metadata": {},
          "execution_count": 76
        }
      ]
    },
    {
      "cell_type": "code",
      "source": [
        "a[4]"
      ],
      "metadata": {
        "colab": {
          "base_uri": "https://localhost:8080/"
        },
        "id": "TPVeYaq6sKOR",
        "outputId": "2acb4a20-9772-4170-82ad-c6b3e904ec81"
      },
      "execution_count": 77,
      "outputs": [
        {
          "output_type": "execute_result",
          "data": {
            "text/plain": [
              "5"
            ]
          },
          "metadata": {},
          "execution_count": 77
        }
      ]
    },
    {
      "cell_type": "code",
      "source": [
        "a[-1]"
      ],
      "metadata": {
        "colab": {
          "base_uri": "https://localhost:8080/"
        },
        "id": "auhprCh9sRPM",
        "outputId": "ea4bf43c-32d6-456f-d150-2484fe9cfb57"
      },
      "execution_count": 78,
      "outputs": [
        {
          "output_type": "execute_result",
          "data": {
            "text/plain": [
              "6"
            ]
          },
          "metadata": {},
          "execution_count": 78
        }
      ]
    },
    {
      "cell_type": "code",
      "source": [
        "a[-6]"
      ],
      "metadata": {
        "colab": {
          "base_uri": "https://localhost:8080/"
        },
        "id": "tisocBgcsTLZ",
        "outputId": "7ea5ee1a-1977-4a4e-a90a-efcbf2aa3558"
      },
      "execution_count": 79,
      "outputs": [
        {
          "output_type": "execute_result",
          "data": {
            "text/plain": [
              "1"
            ]
          },
          "metadata": {},
          "execution_count": 79
        }
      ]
    },
    {
      "cell_type": "markdown",
      "source": [
        "* To select multiple items at once, you can pass array of indexes in square brackets."
      ],
      "metadata": {
        "id": "mBl9FH6Rsfmb"
      }
    },
    {
      "cell_type": "code",
      "source": [
        "a[[1,4,5]]"
      ],
      "metadata": {
        "colab": {
          "base_uri": "https://localhost:8080/"
        },
        "id": "Lk8tr1uvsgvj",
        "outputId": "b9a3930e-c98d-44e1-9edb-73b9ac5b4e6f"
      },
      "execution_count": 80,
      "outputs": [
        {
          "output_type": "execute_result",
          "data": {
            "text/plain": [
              "array([2, 5, 6])"
            ]
          },
          "metadata": {},
          "execution_count": 80
        }
      ]
    },
    {
      "cell_type": "markdown",
      "source": [
        "* Moving on to the two-dimensional case, namely the matrices, they are represented \n",
        "as rectangular arrays consisting of rows and columns, defined by two axes, where axis 0 \n",
        "is represented by the rows and axis 1 is represented by the columns. Thus, indexing in \n",
        "this case is represented by a pair of values: the first value is the index of the row and the \n",
        "second is the index of the column. Therefore, if you want to access the values or select \n",
        "elements in the matrix, you will still use square brackets, but this time there are two \n",
        "values [row index, column index]"
      ],
      "metadata": {
        "id": "x9hJMUP4uIIl"
      }
    },
    {
      "cell_type": "markdown",
      "source": [
        "![image.png](data:image/png;base64,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)"
      ],
      "metadata": {
        "id": "DeSrgWltuNZY"
      }
    },
    {
      "cell_type": "code",
      "source": [
        "A=np.arange(10,19).reshape(3,3)\n",
        "A"
      ],
      "metadata": {
        "colab": {
          "base_uri": "https://localhost:8080/"
        },
        "id": "9UiFfIb_uOWf",
        "outputId": "3b2cca8d-e4d6-4a02-d05d-0dc684f0af7f"
      },
      "execution_count": 81,
      "outputs": [
        {
          "output_type": "execute_result",
          "data": {
            "text/plain": [
              "array([[10, 11, 12],\n",
              "       [13, 14, 15],\n",
              "       [16, 17, 18]])"
            ]
          },
          "metadata": {},
          "execution_count": 81
        }
      ]
    },
    {
      "cell_type": "code",
      "source": [
        "print(A[1,2])\n",
        "print(A[0,1])\n",
        "print(A[2,1])\n",
        "print(A[2,2])\n",
        "print(A[1,1])"
      ],
      "metadata": {
        "colab": {
          "base_uri": "https://localhost:8080/"
        },
        "id": "AHUynCkButrP",
        "outputId": "71068cc6-0d23-41e8-96eb-1228741a928c"
      },
      "execution_count": 82,
      "outputs": [
        {
          "output_type": "stream",
          "name": "stdout",
          "text": [
            "15\n",
            "11\n",
            "17\n",
            "18\n",
            "14\n"
          ]
        }
      ]
    },
    {
      "cell_type": "markdown",
      "source": [
        "* Slicing\n",
        "Slicing allows you to extract portions of an array to generate new arrays"
      ],
      "metadata": {
        "id": "sd0rjlsrws1x"
      }
    },
    {
      "cell_type": "code",
      "source": [
        "a=np.arange(10,19)\n",
        "a"
      ],
      "metadata": {
        "colab": {
          "base_uri": "https://localhost:8080/"
        },
        "id": "nF80Tjzwwt4_",
        "outputId": "af2d1190-1f3b-45d4-f0df-7f79ce300638"
      },
      "execution_count": 83,
      "outputs": [
        {
          "output_type": "execute_result",
          "data": {
            "text/plain": [
              "array([10, 11, 12, 13, 14, 15, 16, 17, 18])"
            ]
          },
          "metadata": {},
          "execution_count": 83
        }
      ]
    },
    {
      "cell_type": "code",
      "source": [
        "print(a[1:5])\n",
        "print(a[2:6])\n",
        "print(a[3:5])\n",
        "print(a[0:6])"
      ],
      "metadata": {
        "colab": {
          "base_uri": "https://localhost:8080/"
        },
        "id": "Hw1lgst3xPXs",
        "outputId": "8303beb8-c36f-4eb4-bafa-f41b1da34ce0"
      },
      "execution_count": 85,
      "outputs": [
        {
          "output_type": "stream",
          "name": "stdout",
          "text": [
            "[11 12 13 14]\n",
            "[12 13 14 15]\n",
            "[13 14]\n",
            "[10 11 12 13 14 15]\n"
          ]
        }
      ]
    },
    {
      "cell_type": "markdown",
      "source": [
        "* Now if you want to extract an item from the previous portion and skip a specific number of following items, then extract the next and skip again, you can use a third number that defines the gap in the sequence of the elements"
      ],
      "metadata": {
        "id": "PRBsDscwxxYH"
      }
    },
    {
      "cell_type": "code",
      "source": [
        "print(a[1:6:2])\n",
        "print(a[3:7:3])"
      ],
      "metadata": {
        "colab": {
          "base_uri": "https://localhost:8080/"
        },
        "id": "Ywu5mevAx3Uv",
        "outputId": "37052ad7-b8fc-46c6-91d3-b7689f7e0888"
      },
      "execution_count": 86,
      "outputs": [
        {
          "output_type": "stream",
          "name": "stdout",
          "text": [
            "[11 13 15]\n",
            "[13 16]\n"
          ]
        }
      ]
    },
    {
      "cell_type": "markdown",
      "source": [
        "* To better understand the slice syntax, you also should look at cases where you \n",
        "do not use explicit numerical values. If you omit the first number, NumPy implicitly \n",
        "interprets this number as 0 (i.e., the initial element of the array). If you omit the second \n",
        "number, this will be interpreted as the maximum index of the array; and if you omit the \n",
        "last number this will be interpreted as 1. All the elements will be considered without \n",
        "intervals"
      ],
      "metadata": {
        "id": "LhWzlY8UyPBl"
      }
    },
    {
      "cell_type": "code",
      "source": [
        "print(a[::2])\n",
        "print(a[:5:2])\n",
        "print(a[:5:])"
      ],
      "metadata": {
        "colab": {
          "base_uri": "https://localhost:8080/"
        },
        "id": "BQqbXuzLyQUi",
        "outputId": "fa524326-c98f-4daa-94fd-d82bad42c740"
      },
      "execution_count": 87,
      "outputs": [
        {
          "output_type": "stream",
          "name": "stdout",
          "text": [
            "[10 12 14 16 18]\n",
            "[10 12 14]\n",
            "[10 11 12 13 14]\n"
          ]
        }
      ]
    },
    {
      "cell_type": "code",
      "source": [
        "b=np.arange(0,9).reshape(3,3)\n",
        "b"
      ],
      "metadata": {
        "colab": {
          "base_uri": "https://localhost:8080/"
        },
        "id": "MPShBSS8zl5u",
        "outputId": "d79d717a-188c-4261-b34e-c0371b6cf8d2"
      },
      "execution_count": 89,
      "outputs": [
        {
          "output_type": "execute_result",
          "data": {
            "text/plain": [
              "array([[0, 1, 2],\n",
              "       [3, 4, 5],\n",
              "       [6, 7, 8]])"
            ]
          },
          "metadata": {},
          "execution_count": 89
        }
      ]
    },
    {
      "cell_type": "code",
      "source": [
        "print(b[0,1])\n",
        "print(b[0,2])\n",
        "print(b[0,:])\n",
        "print(b[1,1:3])\n",
        "print(b[1:3,1:3])\n",
        "print(b[1:,0:])\n",
        "print(b[:,:])\n",
        "print(b[1:3,0:2])\n",
        "print(b[:,0])\n",
        "print(b[[0,2],:])\n",
        "print(b[[1,2],1:])"
      ],
      "metadata": {
        "colab": {
          "base_uri": "https://localhost:8080/"
        },
        "id": "PzYYaa-lx3at",
        "outputId": "08bd79a2-90e3-4e0a-f2fe-604b53ba69df"
      },
      "execution_count": 100,
      "outputs": [
        {
          "output_type": "stream",
          "name": "stdout",
          "text": [
            "1\n",
            "2\n",
            "[0 1 2]\n",
            "[4 5]\n",
            "[[4 5]\n",
            " [7 8]]\n",
            "[[3 4 5]\n",
            " [6 7 8]]\n",
            "[[0 1 2]\n",
            " [3 4 5]\n",
            " [6 7 8]]\n",
            "[[3 4]\n",
            " [6 7]]\n",
            "[0 3 6]\n",
            "[[0 1 2]\n",
            " [6 7 8]]\n",
            "[[4 5]\n",
            " [7 8]]\n"
          ]
        }
      ]
    },
    {
      "cell_type": "code",
      "source": [
        "c=np.array([[1,2,3,4],[5,6,7,8],[9,10,11,12]],ndmin=4)\n",
        "c"
      ],
      "metadata": {
        "colab": {
          "base_uri": "https://localhost:8080/"
        },
        "id": "52W4IUT512jG",
        "outputId": "368c6297-3fc9-468c-f2b4-fdf788fb12cd"
      },
      "execution_count": 106,
      "outputs": [
        {
          "output_type": "execute_result",
          "data": {
            "text/plain": [
              "array([[[[ 1,  2,  3,  4],\n",
              "         [ 5,  6,  7,  8],\n",
              "         [ 9, 10, 11, 12]]]])"
            ]
          },
          "metadata": {},
          "execution_count": 106
        }
      ]
    },
    {
      "cell_type": "code",
      "source": [
        "print(c[0,0,0,1])\n",
        "print(c[0,0,1,0])\n",
        "print(c[0,0,2,3])"
      ],
      "metadata": {
        "colab": {
          "base_uri": "https://localhost:8080/"
        },
        "id": "MC6esH8x2-VN",
        "outputId": "20011cda-be5c-4349-be76-fb93820007a8"
      },
      "execution_count": 109,
      "outputs": [
        {
          "output_type": "stream",
          "name": "stdout",
          "text": [
            "2\n",
            "5\n",
            "12\n"
          ]
        }
      ]
    },
    {
      "cell_type": "code",
      "source": [
        "d=np.array([[[1,2],[3,4],[5,6]],[[1,6],[9,8],[6,3]],[[4,1],[3,7],[8,0]]])\n",
        "d"
      ],
      "metadata": {
        "colab": {
          "base_uri": "https://localhost:8080/"
        },
        "id": "Dl09bbnc4bee",
        "outputId": "e23f10b5-1d50-40fc-f46a-26376a685123"
      },
      "execution_count": 112,
      "outputs": [
        {
          "output_type": "execute_result",
          "data": {
            "text/plain": [
              "array([[[1, 2],\n",
              "        [3, 4],\n",
              "        [5, 6]],\n",
              "\n",
              "       [[1, 6],\n",
              "        [9, 8],\n",
              "        [6, 3]],\n",
              "\n",
              "       [[4, 1],\n",
              "        [3, 7],\n",
              "        [8, 0]]])"
            ]
          },
          "metadata": {},
          "execution_count": 112
        }
      ]
    },
    {
      "cell_type": "code",
      "source": [
        "print(d[0,1,1])\n",
        "print(d[1,1,1])\n",
        "print(d[2,0,0:])\n",
        "print(d[0:2,1:,1])\n",
        "print(d[2,0:3,1])\n",
        "print(d[1,2,1])\n",
        "print(d[2,2,0])"
      ],
      "metadata": {
        "colab": {
          "base_uri": "https://localhost:8080/"
        },
        "id": "OrOGbmpc5BWa",
        "outputId": "88a5d2bb-b553-412a-97df-56c12f0b7921"
      },
      "execution_count": 126,
      "outputs": [
        {
          "output_type": "stream",
          "name": "stdout",
          "text": [
            "4\n",
            "8\n",
            "[4 1]\n",
            "[[4 6]\n",
            " [8 3]]\n",
            "[1 7 0]\n",
            "3\n",
            "8\n"
          ]
        }
      ]
    },
    {
      "cell_type": "code",
      "source": [
        "e=np.array([[[[1,2],[3,4],[5,6]]],[[[1,6],[9,8],[6,3]]],[[[4,1],[3,7],[8,0]]],[[[2,3],[8,9],[7,0]]]])\n",
        "e"
      ],
      "metadata": {
        "colab": {
          "base_uri": "https://localhost:8080/"
        },
        "id": "a96qRlA38FsQ",
        "outputId": "c392c22d-9f14-44b6-e063-dc57bf809641"
      },
      "execution_count": 128,
      "outputs": [
        {
          "output_type": "execute_result",
          "data": {
            "text/plain": [
              "array([[[[1, 2],\n",
              "         [3, 4],\n",
              "         [5, 6]]],\n",
              "\n",
              "\n",
              "       [[[1, 6],\n",
              "         [9, 8],\n",
              "         [6, 3]]],\n",
              "\n",
              "\n",
              "       [[[4, 1],\n",
              "         [3, 7],\n",
              "         [8, 0]]],\n",
              "\n",
              "\n",
              "       [[[2, 3],\n",
              "         [8, 9],\n",
              "         [7, 0]]]])"
            ]
          },
          "metadata": {},
          "execution_count": 128
        }
      ]
    },
    {
      "cell_type": "code",
      "source": [
        "print(e[3,0,1,0])\n",
        "print(e[2,0,2,1])\n",
        "print(e[2,0,2])\n",
        "print(e[1,0])"
      ],
      "metadata": {
        "colab": {
          "base_uri": "https://localhost:8080/"
        },
        "id": "ro6pdGmC8RtS",
        "outputId": "0f72cd3b-dcdc-47f2-e21c-1a03d630cf22"
      },
      "execution_count": 144,
      "outputs": [
        {
          "output_type": "stream",
          "name": "stdout",
          "text": [
            "8\n",
            "0\n",
            "[8 0]\n",
            "[[1 6]\n",
            " [9 8]\n",
            " [6 3]]\n"
          ]
        }
      ]
    },
    {
      "cell_type": "code",
      "source": [
        "for i in e:\n",
        "  print(i)"
      ],
      "metadata": {
        "colab": {
          "base_uri": "https://localhost:8080/"
        },
        "id": "R3OIlmx32-i_",
        "outputId": "c96bb4c9-4ecd-4059-a614-ba6a091d906d"
      },
      "execution_count": 145,
      "outputs": [
        {
          "output_type": "stream",
          "name": "stdout",
          "text": [
            "[[[1 2]\n",
            "  [3 4]\n",
            "  [5 6]]]\n",
            "[[[1 6]\n",
            "  [9 8]\n",
            "  [6 3]]]\n",
            "[[[4 1]\n",
            "  [3 7]\n",
            "  [8 0]]]\n",
            "[[[2 3]\n",
            "  [8 9]\n",
            "  [7 0]]]\n"
          ]
        }
      ]
    },
    {
      "cell_type": "code",
      "source": [
        "for i in e[3]:\n",
        "  print(i)"
      ],
      "metadata": {
        "colab": {
          "base_uri": "https://localhost:8080/"
        },
        "id": "eo_qszoZ-Gim",
        "outputId": "24907440-2d88-4d65-ee03-48c6e7da69a4"
      },
      "execution_count": 147,
      "outputs": [
        {
          "output_type": "stream",
          "name": "stdout",
          "text": [
            "[[2 3]\n",
            " [8 9]\n",
            " [7 0]]\n"
          ]
        }
      ]
    },
    {
      "cell_type": "code",
      "source": [
        "t=np.arange(1,10).reshape(3,3)\n",
        "t"
      ],
      "metadata": {
        "colab": {
          "base_uri": "https://localhost:8080/"
        },
        "id": "Y37JuGj__lQT",
        "outputId": "4f3c4f82-3cc5-4325-d373-ae870efc4fd6"
      },
      "execution_count": 159,
      "outputs": [
        {
          "output_type": "execute_result",
          "data": {
            "text/plain": [
              "array([[1, 2, 3],\n",
              "       [4, 5, 6],\n",
              "       [7, 8, 9]])"
            ]
          },
          "metadata": {},
          "execution_count": 159
        }
      ]
    },
    {
      "cell_type": "markdown",
      "source": [
        "* If you want to launch an aggregate \n",
        "function that returns a value calculated for every single column or on every single row, \n",
        "there is an optimal way that leaves it to NumPy to manage the iteration: the apply_\n",
        "along_axis() function.\n",
        "This function takes three arguments: the aggregate function, the axis on which to \n",
        "apply the iteration, and the array. If the option axis equals 0, then the iteration evaluates \n",
        "the elements column by column, whereas if axis equals 1 then the iteration evaluates \n",
        "the elements row by row. For example, you can calculate the average values first by \n",
        "column and then by row"
      ],
      "metadata": {
        "id": "fRgk6gnO_RPo"
      }
    },
    {
      "cell_type": "code",
      "source": [
        "np.apply_along_axis(np.mean,axis=0,arr=t)"
      ],
      "metadata": {
        "colab": {
          "base_uri": "https://localhost:8080/"
        },
        "id": "4EAfNqvU_SQ0",
        "outputId": "5c6b00e4-e7d5-43f3-8375-7fab905eaebf"
      },
      "execution_count": 160,
      "outputs": [
        {
          "output_type": "execute_result",
          "data": {
            "text/plain": [
              "array([4., 5., 6.])"
            ]
          },
          "metadata": {},
          "execution_count": 160
        }
      ]
    },
    {
      "cell_type": "markdown",
      "source": [
        "* Conditions and Boolean Arrays"
      ],
      "metadata": {
        "id": "QVrLY3cnTOz-"
      }
    },
    {
      "cell_type": "code",
      "source": [
        "a=np.random.random((4,4))\n",
        "a"
      ],
      "metadata": {
        "colab": {
          "base_uri": "https://localhost:8080/"
        },
        "id": "y1OUx3GyTR2u",
        "outputId": "fb2c9471-5bdf-412b-8386-2bdee28cd5cd"
      },
      "execution_count": 162,
      "outputs": [
        {
          "output_type": "execute_result",
          "data": {
            "text/plain": [
              "array([[0.47941051, 0.92316265, 0.47137914, 0.57278626],\n",
              "       [0.384652  , 0.22977318, 0.34419602, 0.24220728],\n",
              "       [0.60677961, 0.32778952, 0.75607295, 0.7611958 ],\n",
              "       [0.18113673, 0.11441659, 0.21867687, 0.96205452]])"
            ]
          },
          "metadata": {},
          "execution_count": 162
        }
      ]
    },
    {
      "cell_type": "code",
      "source": [
        "a<0.5"
      ],
      "metadata": {
        "colab": {
          "base_uri": "https://localhost:8080/"
        },
        "id": "ggGdC6LDTn9I",
        "outputId": "47c88771-8793-4790-c0b6-abb11893ed2a"
      },
      "execution_count": 163,
      "outputs": [
        {
          "output_type": "execute_result",
          "data": {
            "text/plain": [
              "array([[ True, False,  True, False],\n",
              "       [ True,  True,  True,  True],\n",
              "       [False,  True, False, False],\n",
              "       [ True,  True,  True, False]])"
            ]
          },
          "metadata": {},
          "execution_count": 163
        }
      ]
    },
    {
      "cell_type": "code",
      "source": [
        "a[a<0.5]"
      ],
      "metadata": {
        "colab": {
          "base_uri": "https://localhost:8080/"
        },
        "id": "4ZzCEnMAToHE",
        "outputId": "4ddbf4c4-b1cb-4ba2-83ab-8d04e894dca4"
      },
      "execution_count": 164,
      "outputs": [
        {
          "output_type": "execute_result",
          "data": {
            "text/plain": [
              "array([0.47941051, 0.47137914, 0.384652  , 0.22977318, 0.34419602,\n",
              "       0.24220728, 0.32778952, 0.18113673, 0.11441659, 0.21867687])"
            ]
          },
          "metadata": {},
          "execution_count": 164
        }
      ]
    },
    {
      "cell_type": "code",
      "source": [
        "a=np.random.random(12).reshape(3,4)\n",
        "a"
      ],
      "metadata": {
        "colab": {
          "base_uri": "https://localhost:8080/"
        },
        "id": "6QcLUVgyTqLF",
        "outputId": "630713e7-4926-4eb2-c948-8819876723b5"
      },
      "execution_count": 167,
      "outputs": [
        {
          "output_type": "execute_result",
          "data": {
            "text/plain": [
              "array([[0.36254489, 0.77895384, 0.62626281, 0.17288867],\n",
              "       [0.19514671, 0.93053447, 0.90406659, 0.79273311],\n",
              "       [0.4508103 , 0.91579108, 0.43822355, 0.99888923]])"
            ]
          },
          "metadata": {},
          "execution_count": 167
        }
      ]
    },
    {
      "cell_type": "markdown",
      "source": [
        "* The inverse operation is also possible, that is, you can convert a \n",
        "two-dimensional array into a one-dimensional array, by using the ravel() function."
      ],
      "metadata": {
        "id": "PJdCCT4hVCTb"
      }
    },
    {
      "cell_type": "code",
      "source": [
        "a.ravel()"
      ],
      "metadata": {
        "colab": {
          "base_uri": "https://localhost:8080/"
        },
        "id": "88eg_phYTqUf",
        "outputId": "70593e59-8466-48b3-b3e3-7ed9f633165a"
      },
      "execution_count": 169,
      "outputs": [
        {
          "output_type": "execute_result",
          "data": {
            "text/plain": [
              "array([0.36254489, 0.77895384, 0.62626281, 0.17288867, 0.19514671,\n",
              "       0.93053447, 0.90406659, 0.79273311, 0.4508103 , 0.91579108,\n",
              "       0.43822355, 0.99888923])"
            ]
          },
          "metadata": {},
          "execution_count": 169
        }
      ]
    },
    {
      "cell_type": "code",
      "source": [
        "a=np.array([1,2,3,4],ndmin=4)\n",
        "a"
      ],
      "metadata": {
        "colab": {
          "base_uri": "https://localhost:8080/"
        },
        "id": "rncuZPUyTSCm",
        "outputId": "63555cb0-eb14-47db-a913-8eee54ba6ba1"
      },
      "execution_count": 174,
      "outputs": [
        {
          "output_type": "execute_result",
          "data": {
            "text/plain": [
              "array([[[[1, 2, 3, 4]]]])"
            ]
          },
          "metadata": {},
          "execution_count": 174
        }
      ]
    },
    {
      "cell_type": "code",
      "source": [
        "a.ndim"
      ],
      "metadata": {
        "colab": {
          "base_uri": "https://localhost:8080/"
        },
        "id": "AjizmTPgVaMs",
        "outputId": "8a6df59b-3aa3-4941-e6d5-edba9dcc2436"
      },
      "execution_count": 176,
      "outputs": [
        {
          "output_type": "execute_result",
          "data": {
            "text/plain": [
              "4"
            ]
          },
          "metadata": {},
          "execution_count": 176
        }
      ]
    },
    {
      "cell_type": "code",
      "source": [
        "a.ravel()"
      ],
      "metadata": {
        "colab": {
          "base_uri": "https://localhost:8080/"
        },
        "id": "DjLKz1Z4VeTk",
        "outputId": "e1cbf681-8443-4355-ca5e-2d31c78eff60"
      },
      "execution_count": 177,
      "outputs": [
        {
          "output_type": "execute_result",
          "data": {
            "text/plain": [
              "array([1, 2, 3, 4])"
            ]
          },
          "metadata": {},
          "execution_count": 177
        }
      ]
    },
    {
      "cell_type": "code",
      "source": [
        "a.T"
      ],
      "metadata": {
        "colab": {
          "base_uri": "https://localhost:8080/"
        },
        "id": "qrnsbwu6VeZy",
        "outputId": "1501c9e0-d2d8-4ff9-9e89-5c6c6e39c6c7"
      },
      "execution_count": 178,
      "outputs": [
        {
          "output_type": "execute_result",
          "data": {
            "text/plain": [
              "array([[[[1]]],\n",
              "\n",
              "\n",
              "       [[[2]]],\n",
              "\n",
              "\n",
              "       [[[3]]],\n",
              "\n",
              "\n",
              "       [[[4]]]])"
            ]
          },
          "metadata": {},
          "execution_count": 178
        }
      ]
    },
    {
      "cell_type": "code",
      "source": [],
      "metadata": {
        "id": "sIqOYGA6Vn7i"
      },
      "execution_count": null,
      "outputs": []
    },
    {
      "cell_type": "markdown",
      "source": [
        "* Array Manipulation\n",
        "Often you need to create an array using already created arrays. In this section, you will \n",
        "see how to create new arrays by joining or splitting arrays that are already defined"
      ],
      "metadata": {
        "id": "nvM1oztcV0Kd"
      }
    },
    {
      "cell_type": "markdown",
      "source": [
        "* Joining Arrays\n",
        "You can merge multiple arrays to form a new one that contains all of the arrays. NumPy \n",
        "uses the concept of stacking, providing a number of functions in this regard. For \n",
        "example, you can perform vertical stacking with the vstack() function, which combines \n",
        "the second array as new rows of the first array. In this case, the array grows in a vertical \n",
        "direction. By contrast, the hstack() function performs horizontal stacking; that is, the \n",
        "second array is added to the columns of the first array"
      ],
      "metadata": {
        "id": "lAHOzVkmWHqx"
      }
    },
    {
      "cell_type": "code",
      "source": [
        "a=np.ones((3,3))\n",
        "b=np.zeros((3,3))\n",
        "print(a)\n",
        "print(b)"
      ],
      "metadata": {
        "colab": {
          "base_uri": "https://localhost:8080/"
        },
        "id": "ip-Nwp4zWJOA",
        "outputId": "071e155e-36ee-4ab3-865f-21b8d28d75b7"
      },
      "execution_count": 179,
      "outputs": [
        {
          "output_type": "stream",
          "name": "stdout",
          "text": [
            "[[1. 1. 1.]\n",
            " [1. 1. 1.]\n",
            " [1. 1. 1.]]\n",
            "[[0. 0. 0.]\n",
            " [0. 0. 0.]\n",
            " [0. 0. 0.]]\n"
          ]
        }
      ]
    },
    {
      "cell_type": "code",
      "source": [
        "np.vstack((a,b))"
      ],
      "metadata": {
        "colab": {
          "base_uri": "https://localhost:8080/"
        },
        "id": "qPqm2KObXEFw",
        "outputId": "c4821478-8879-4ef7-82b2-4a7c5b09dc1e"
      },
      "execution_count": 181,
      "outputs": [
        {
          "output_type": "execute_result",
          "data": {
            "text/plain": [
              "array([[1., 1., 1.],\n",
              "       [1., 1., 1.],\n",
              "       [1., 1., 1.],\n",
              "       [0., 0., 0.],\n",
              "       [0., 0., 0.],\n",
              "       [0., 0., 0.]])"
            ]
          },
          "metadata": {},
          "execution_count": 181
        }
      ]
    },
    {
      "cell_type": "code",
      "source": [
        "np.hstack((a,b))"
      ],
      "metadata": {
        "colab": {
          "base_uri": "https://localhost:8080/"
        },
        "id": "0iiVn1bDXL6a",
        "outputId": "e723d4ec-53eb-4a07-89b3-e27a3e41bf63"
      },
      "execution_count": 182,
      "outputs": [
        {
          "output_type": "execute_result",
          "data": {
            "text/plain": [
              "array([[1., 1., 1., 0., 0., 0.],\n",
              "       [1., 1., 1., 0., 0., 0.],\n",
              "       [1., 1., 1., 0., 0., 0.]])"
            ]
          },
          "metadata": {},
          "execution_count": 182
        }
      ]
    },
    {
      "cell_type": "markdown",
      "source": [
        "* Two other functions performing stacking between multiple arrays are column_\n",
        "stack() and row_stack(). These functions operate differently than the two previous \n",
        "functions. Generally these functions are used with one-dimensional arrays, which are \n",
        "stacked as columns or rows in order to form a new two-dimensional array."
      ],
      "metadata": {
        "id": "jRBAHLRlXlE2"
      }
    },
    {
      "cell_type": "code",
      "source": [
        "a=np.array([1,2,3])\n",
        "b=np.array([4,5,6])\n",
        "c=np.array([7,8,9])"
      ],
      "metadata": {
        "id": "ZeVeL7f0XL-6"
      },
      "execution_count": 185,
      "outputs": []
    },
    {
      "cell_type": "code",
      "source": [
        "np.column_stack((a,b,c))"
      ],
      "metadata": {
        "colab": {
          "base_uri": "https://localhost:8080/"
        },
        "id": "F9LZRpnWWJY1",
        "outputId": "64621a20-e345-4388-8d56-0b4265302bdf"
      },
      "execution_count": 186,
      "outputs": [
        {
          "output_type": "execute_result",
          "data": {
            "text/plain": [
              "array([[1, 4, 7],\n",
              "       [2, 5, 8],\n",
              "       [3, 6, 9]])"
            ]
          },
          "metadata": {},
          "execution_count": 186
        }
      ]
    },
    {
      "cell_type": "code",
      "source": [
        "np.row_stack((a,b,c))"
      ],
      "metadata": {
        "colab": {
          "base_uri": "https://localhost:8080/"
        },
        "id": "cB_vPP65YJY9",
        "outputId": "6f450d75-fc92-47fd-c478-963ed60070a6"
      },
      "execution_count": 187,
      "outputs": [
        {
          "output_type": "execute_result",
          "data": {
            "text/plain": [
              "array([[1, 2, 3],\n",
              "       [4, 5, 6],\n",
              "       [7, 8, 9]])"
            ]
          },
          "metadata": {},
          "execution_count": 187
        }
      ]
    },
    {
      "cell_type": "markdown",
      "source": [
        "* Splitting Arrays\n",
        "In the previous section, you saw how to assemble multiple arrays through stacking. Now \n",
        "you will see how to divide an array into several parts. In NumPy, you use splitting to do \n",
        "this. Here too, you have a set of functions that work both horizontally with the hsplit()\n",
        "function and vertically with the vsplit() function."
      ],
      "metadata": {
        "id": "NgFL7cN6YWyJ"
      }
    },
    {
      "cell_type": "code",
      "source": [
        "a=np.arange(16).reshape(4,4)\n",
        "a"
      ],
      "metadata": {
        "colab": {
          "base_uri": "https://localhost:8080/"
        },
        "id": "L4d5vdqkYYn-",
        "outputId": "11340df4-d909-4f84-b985-98d601a8ddc2"
      },
      "execution_count": 189,
      "outputs": [
        {
          "output_type": "execute_result",
          "data": {
            "text/plain": [
              "array([[ 0,  1,  2,  3],\n",
              "       [ 4,  5,  6,  7],\n",
              "       [ 8,  9, 10, 11],\n",
              "       [12, 13, 14, 15]])"
            ]
          },
          "metadata": {},
          "execution_count": 189
        }
      ]
    },
    {
      "cell_type": "code",
      "source": [
        "np.hsplit(a,2)"
      ],
      "metadata": {
        "colab": {
          "base_uri": "https://localhost:8080/"
        },
        "id": "xpEWubaCZB8s",
        "outputId": "1b1c1bb6-835c-4e39-cd71-2aea8b427c9a"
      },
      "execution_count": 191,
      "outputs": [
        {
          "output_type": "execute_result",
          "data": {
            "text/plain": [
              "[array([[ 0,  1],\n",
              "        [ 4,  5],\n",
              "        [ 8,  9],\n",
              "        [12, 13]]), array([[ 2,  3],\n",
              "        [ 6,  7],\n",
              "        [10, 11],\n",
              "        [14, 15]])]"
            ]
          },
          "metadata": {},
          "execution_count": 191
        }
      ]
    },
    {
      "cell_type": "code",
      "source": [
        "b=np.arange(36).reshape(6,6)\n",
        "b"
      ],
      "metadata": {
        "colab": {
          "base_uri": "https://localhost:8080/"
        },
        "id": "xfKy6fmqZl7U",
        "outputId": "42c395b3-1b6a-42ba-f14e-9383ebbb2c99"
      },
      "execution_count": 192,
      "outputs": [
        {
          "output_type": "execute_result",
          "data": {
            "text/plain": [
              "array([[ 0,  1,  2,  3,  4,  5],\n",
              "       [ 6,  7,  8,  9, 10, 11],\n",
              "       [12, 13, 14, 15, 16, 17],\n",
              "       [18, 19, 20, 21, 22, 23],\n",
              "       [24, 25, 26, 27, 28, 29],\n",
              "       [30, 31, 32, 33, 34, 35]])"
            ]
          },
          "metadata": {},
          "execution_count": 192
        }
      ]
    },
    {
      "cell_type": "code",
      "source": [
        "np.hsplit(b,3)"
      ],
      "metadata": {
        "colab": {
          "base_uri": "https://localhost:8080/"
        },
        "id": "-iK3fHROZrO0",
        "outputId": "4656c4e6-5fbe-4e45-f109-fec38aa64d47"
      },
      "execution_count": 194,
      "outputs": [
        {
          "output_type": "execute_result",
          "data": {
            "text/plain": [
              "[array([[ 0,  1],\n",
              "        [ 6,  7],\n",
              "        [12, 13],\n",
              "        [18, 19],\n",
              "        [24, 25],\n",
              "        [30, 31]]), array([[ 2,  3],\n",
              "        [ 8,  9],\n",
              "        [14, 15],\n",
              "        [20, 21],\n",
              "        [26, 27],\n",
              "        [32, 33]]), array([[ 4,  5],\n",
              "        [10, 11],\n",
              "        [16, 17],\n",
              "        [22, 23],\n",
              "        [28, 29],\n",
              "        [34, 35]])]"
            ]
          },
          "metadata": {},
          "execution_count": 194
        }
      ]
    },
    {
      "cell_type": "code",
      "source": [
        "np.vsplit(a,2)"
      ],
      "metadata": {
        "colab": {
          "base_uri": "https://localhost:8080/"
        },
        "id": "U06dkSj2Z0de",
        "outputId": "6370a021-5309-4bec-b9bd-17197e52d54a"
      },
      "execution_count": 195,
      "outputs": [
        {
          "output_type": "execute_result",
          "data": {
            "text/plain": [
              "[array([[0, 1, 2, 3],\n",
              "        [4, 5, 6, 7]]), array([[ 8,  9, 10, 11],\n",
              "        [12, 13, 14, 15]])]"
            ]
          },
          "metadata": {},
          "execution_count": 195
        }
      ]
    },
    {
      "cell_type": "code",
      "source": [
        "np.split(b,3)"
      ],
      "metadata": {
        "colab": {
          "base_uri": "https://localhost:8080/"
        },
        "id": "gjTUG_2oZ3s8",
        "outputId": "a782475e-a10b-487e-df02-09e572175a17"
      },
      "execution_count": 196,
      "outputs": [
        {
          "output_type": "execute_result",
          "data": {
            "text/plain": [
              "[array([[ 0,  1,  2,  3,  4,  5],\n",
              "        [ 6,  7,  8,  9, 10, 11]]), array([[12, 13, 14, 15, 16, 17],\n",
              "        [18, 19, 20, 21, 22, 23]]), array([[24, 25, 26, 27, 28, 29],\n",
              "        [30, 31, 32, 33, 34, 35]])]"
            ]
          },
          "metadata": {},
          "execution_count": 196
        }
      ]
    },
    {
      "cell_type": "markdown",
      "source": [
        "* A more complex command is the split() function, which allows you to split the \n",
        "array into nonsymmetrical parts. Passing the array as an argument, you have also to \n",
        "specify the indexes of the parts to be divided. If you use the option axis = 1, then the \n",
        "indexes will be columns; if instead the option is axis = 0, then they will be row indexes.\n",
        "For example, if you want to divide the matrix into three parts, the first of which will \n",
        "include the first column, the second will include the second and the third column, and \n",
        "the third will include the last column, you must specify three indexes in the following way"
      ],
      "metadata": {
        "id": "w5ijffCbawpx"
      }
    },
    {
      "cell_type": "code",
      "source": [
        "np.split(b,[1,4],axis=1)"
      ],
      "metadata": {
        "colab": {
          "base_uri": "https://localhost:8080/"
        },
        "id": "NyFuMp-AaxxK",
        "outputId": "75346558-3bbf-4dfd-d21b-afb9f5fa2306"
      },
      "execution_count": 198,
      "outputs": [
        {
          "output_type": "execute_result",
          "data": {
            "text/plain": [
              "[array([[ 0],\n",
              "        [ 6],\n",
              "        [12],\n",
              "        [18],\n",
              "        [24],\n",
              "        [30]]), array([[ 1,  2,  3],\n",
              "        [ 7,  8,  9],\n",
              "        [13, 14, 15],\n",
              "        [19, 20, 21],\n",
              "        [25, 26, 27],\n",
              "        [31, 32, 33]]), array([[ 4,  5],\n",
              "        [10, 11],\n",
              "        [16, 17],\n",
              "        [22, 23],\n",
              "        [28, 29],\n",
              "        [34, 35]])]"
            ]
          },
          "metadata": {},
          "execution_count": 198
        }
      ]
    },
    {
      "cell_type": "code",
      "source": [
        "np.split(b,[1,4],axis=0)"
      ],
      "metadata": {
        "colab": {
          "base_uri": "https://localhost:8080/"
        },
        "id": "fQCTecIvbjyJ",
        "outputId": "17f2e51c-a88b-47be-e48d-24219b9dd70f"
      },
      "execution_count": 199,
      "outputs": [
        {
          "output_type": "execute_result",
          "data": {
            "text/plain": [
              "[array([[0, 1, 2, 3, 4, 5]]), array([[ 6,  7,  8,  9, 10, 11],\n",
              "        [12, 13, 14, 15, 16, 17],\n",
              "        [18, 19, 20, 21, 22, 23]]), array([[24, 25, 26, 27, 28, 29],\n",
              "        [30, 31, 32, 33, 34, 35]])]"
            ]
          },
          "metadata": {},
          "execution_count": 199
        }
      ]
    },
    {
      "cell_type": "markdown",
      "source": [
        "* As you may have noticed with NumPy, especially when you are manipulating an array, \n",
        "you can return a copy or a view of the array. None of the NumPy assignments produces \n",
        "copies of arrays, nor any element contained in them."
      ],
      "metadata": {
        "id": "XRwNrt9Fc8ra"
      }
    },
    {
      "cell_type": "code",
      "source": [
        "a=np.array([1,2,3])\n",
        "a"
      ],
      "metadata": {
        "colab": {
          "base_uri": "https://localhost:8080/"
        },
        "id": "nEvpnPANc94M",
        "outputId": "27881fad-9daf-4fdf-9642-ec1586be75a1"
      },
      "execution_count": 200,
      "outputs": [
        {
          "output_type": "execute_result",
          "data": {
            "text/plain": [
              "array([1, 2, 3])"
            ]
          },
          "metadata": {},
          "execution_count": 200
        }
      ]
    },
    {
      "cell_type": "code",
      "source": [
        "b=a"
      ],
      "metadata": {
        "id": "TQjLmiLGdB7I"
      },
      "execution_count": 201,
      "outputs": []
    },
    {
      "cell_type": "code",
      "source": [
        "b"
      ],
      "metadata": {
        "colab": {
          "base_uri": "https://localhost:8080/"
        },
        "id": "BASXBf2ddEFn",
        "outputId": "edac4089-73b2-456c-e4ad-e67caa9f357e"
      },
      "execution_count": 202,
      "outputs": [
        {
          "output_type": "execute_result",
          "data": {
            "text/plain": [
              "array([1, 2, 3])"
            ]
          },
          "metadata": {},
          "execution_count": 202
        }
      ]
    },
    {
      "cell_type": "code",
      "source": [
        "a[2]=8"
      ],
      "metadata": {
        "id": "wXuB4DCYdFpc"
      },
      "execution_count": 203,
      "outputs": []
    },
    {
      "cell_type": "code",
      "source": [
        "b"
      ],
      "metadata": {
        "colab": {
          "base_uri": "https://localhost:8080/"
        },
        "id": "tCttCiNvdIrG",
        "outputId": "6e15e988-5fad-4e85-de52-18857af9e2ff"
      },
      "execution_count": 204,
      "outputs": [
        {
          "output_type": "execute_result",
          "data": {
            "text/plain": [
              "array([1, 2, 8])"
            ]
          },
          "metadata": {},
          "execution_count": 204
        }
      ]
    },
    {
      "cell_type": "markdown",
      "source": [
        "* If you assign one array a to another array b, you are not copying it; array b is just \n",
        "another way to call array a. In fact, by changing the value of the third element, you \n",
        "change the third value of b too. When you slice an array, the object returned is a view of \n",
        "the original array."
      ],
      "metadata": {
        "id": "WsZ46F2NdXUZ"
      }
    },
    {
      "cell_type": "code",
      "source": [
        "c=a[0:2]\n",
        "c"
      ],
      "metadata": {
        "colab": {
          "base_uri": "https://localhost:8080/"
        },
        "id": "m4a3T9c6dYbg",
        "outputId": "1133f1d7-7d64-4ca0-8cc4-b233a2c42d74"
      },
      "execution_count": 206,
      "outputs": [
        {
          "output_type": "execute_result",
          "data": {
            "text/plain": [
              "array([1, 2])"
            ]
          },
          "metadata": {},
          "execution_count": 206
        }
      ]
    },
    {
      "cell_type": "code",
      "source": [
        "a[0]=2\n",
        "c"
      ],
      "metadata": {
        "colab": {
          "base_uri": "https://localhost:8080/"
        },
        "id": "oVvcgZJ6dqFd",
        "outputId": "b25bd408-abee-46a2-b49e-0eab3ac8ffee"
      },
      "execution_count": 208,
      "outputs": [
        {
          "output_type": "execute_result",
          "data": {
            "text/plain": [
              "array([2, 2])"
            ]
          },
          "metadata": {},
          "execution_count": 208
        }
      ]
    },
    {
      "cell_type": "markdown",
      "source": [
        "* As you can see, even when slicing, you are actually pointing to the same object. If you \n",
        "want to generate a complete and distinct array, use the copy() function."
      ],
      "metadata": {
        "id": "-alR-eLOdx9g"
      }
    },
    {
      "cell_type": "code",
      "source": [
        "a=np.array([5,6,7,8])\n",
        "d=a.copy()\n",
        "a"
      ],
      "metadata": {
        "colab": {
          "base_uri": "https://localhost:8080/"
        },
        "id": "Uhs4RG0pdy-0",
        "outputId": "4e8f7c6f-8033-4b5c-ff5f-fc376456816e"
      },
      "execution_count": 210,
      "outputs": [
        {
          "output_type": "execute_result",
          "data": {
            "text/plain": [
              "array([5, 6, 7, 8])"
            ]
          },
          "metadata": {},
          "execution_count": 210
        }
      ]
    },
    {
      "cell_type": "code",
      "source": [
        "d"
      ],
      "metadata": {
        "colab": {
          "base_uri": "https://localhost:8080/"
        },
        "id": "504DuFzrd8bl",
        "outputId": "5ee07c5a-0e1c-4193-9ac0-387590a7e3f7"
      },
      "execution_count": 211,
      "outputs": [
        {
          "output_type": "execute_result",
          "data": {
            "text/plain": [
              "array([5, 6, 7, 8])"
            ]
          },
          "metadata": {},
          "execution_count": 211
        }
      ]
    },
    {
      "cell_type": "code",
      "source": [
        "a[0]=9\n",
        "c"
      ],
      "metadata": {
        "colab": {
          "base_uri": "https://localhost:8080/"
        },
        "id": "zE__WEeLd9fm",
        "outputId": "48634ca1-4388-4dd2-f9fa-98a8104d0531"
      },
      "execution_count": 213,
      "outputs": [
        {
          "output_type": "execute_result",
          "data": {
            "text/plain": [
              "array([2, 2])"
            ]
          },
          "metadata": {},
          "execution_count": 213
        }
      ]
    },
    {
      "cell_type": "markdown",
      "source": [
        "* in this case, even when you change the items in array a, array c remains unchanged"
      ],
      "metadata": {
        "id": "P4gUBbareFPP"
      }
    },
    {
      "cell_type": "code",
      "source": [],
      "metadata": {
        "id": "T_a-F3v1eH4k"
      },
      "execution_count": null,
      "outputs": []
    },
    {
      "cell_type": "markdown",
      "source": [
        "### Broadcasting\n",
        "\n",
        "The term broadcasting describes how NumPy treats arrays with different shapes during arithmetic operations.\n",
        "\n",
        "The smaller array is “broadcast” across the larger array so that they have compatible shapes."
      ],
      "metadata": {
        "id": "vJmNpLASiFFK"
      }
    },
    {
      "cell_type": "code",
      "source": [
        "# same shape\n",
        "a = np.arange(6).reshape(2,3)\n",
        "b = np.arange(6,12).reshape(2,3)\n",
        "\n",
        "print(a)\n",
        "print(b)\n",
        "\n",
        "print(a+b)"
      ],
      "metadata": {
        "colab": {
          "base_uri": "https://localhost:8080/"
        },
        "id": "rOyUA6I7iGM8",
        "outputId": "75c18560-9ef6-4298-b76d-4266b2858fe0"
      },
      "execution_count": 214,
      "outputs": [
        {
          "output_type": "stream",
          "name": "stdout",
          "text": [
            "[[0 1 2]\n",
            " [3 4 5]]\n",
            "[[ 6  7  8]\n",
            " [ 9 10 11]]\n",
            "[[ 6  8 10]\n",
            " [12 14 16]]\n"
          ]
        }
      ]
    },
    {
      "cell_type": "code",
      "source": [
        "# diff shape\n",
        "a = np.arange(6).reshape(2,3)\n",
        "b = np.arange(3).reshape(1,3)\n",
        "\n",
        "print(a)\n",
        "print(b)\n",
        "\n",
        "print(a+b)"
      ],
      "metadata": {
        "colab": {
          "base_uri": "https://localhost:8080/"
        },
        "id": "MgbmpoMJid2F",
        "outputId": "bb455d28-0790-466c-f2f1-cd3c1de6c2d0"
      },
      "execution_count": 215,
      "outputs": [
        {
          "output_type": "stream",
          "name": "stdout",
          "text": [
            "[[0 1 2]\n",
            " [3 4 5]]\n",
            "[[0 1 2]]\n",
            "[[0 2 4]\n",
            " [3 5 7]]\n"
          ]
        }
      ]
    },
    {
      "cell_type": "markdown",
      "source": [
        "#### Broadcasting Rules\n",
        "\n",
        "**1. Make the two arrays have the same number of dimensions.**<br>\n",
        "- If the numbers of dimensions of the two arrays are different, add new dimensions with size 1 to the head of the array with the smaller dimension.<br>"
      ],
      "metadata": {
        "id": "qgYmKZ4ZiniY"
      }
    },
    {
      "cell_type": "markdown",
      "source": [
        "**2. Make each dimension of the two arrays the same size.**<br>\n",
        "- If the sizes of each dimension of the two arrays do not match, dimensions with size 1 are stretched to the size of the other array.\n",
        "- If there is a dimension whose size is not 1 in either of the two arrays, it cannot be broadcasted, and an error is raised."
      ],
      "metadata": {
        "id": "rI1QTKWLiq3k"
      }
    },
    {
      "cell_type": "markdown",
      "source": [
        "![image.png](data:image/png;base64,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)"
      ],
      "metadata": {
        "id": "qKNX3RKXlD8W"
      }
    },
    {
      "cell_type": "markdown",
      "source": [
        "![image.png](data:image/png;base64,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)"
      ],
      "metadata": {
        "id": "foxhbknciw82"
      }
    },
    {
      "cell_type": "code",
      "source": [
        "# More examples\n",
        "\n",
        "a = np.arange(12).reshape(4,3)\n",
        "b = np.arange(3)\n",
        "\n",
        "print(a)\n",
        "print(b)\n",
        "\n",
        "print(a+b)"
      ],
      "metadata": {
        "colab": {
          "base_uri": "https://localhost:8080/"
        },
        "id": "k5TvS7Alixrt",
        "outputId": "d244d2c2-bfb2-4609-e04e-d25acc75c330"
      },
      "execution_count": 216,
      "outputs": [
        {
          "output_type": "stream",
          "name": "stdout",
          "text": [
            "[[ 0  1  2]\n",
            " [ 3  4  5]\n",
            " [ 6  7  8]\n",
            " [ 9 10 11]]\n",
            "[0 1 2]\n",
            "[[ 0  2  4]\n",
            " [ 3  5  7]\n",
            " [ 6  8 10]\n",
            " [ 9 11 13]]\n"
          ]
        }
      ]
    },
    {
      "cell_type": "code",
      "source": [
        "a = np.arange(12).reshape(3,4)\n",
        "b = np.arange(3)\n",
        "\n",
        "print(a)\n",
        "print(b)\n",
        "\n",
        "print(a+b)"
      ],
      "metadata": {
        "colab": {
          "base_uri": "https://localhost:8080/",
          "height": 269
        },
        "id": "P5-p9egPjAu3",
        "outputId": "a7d4af0a-33a6-4c94-a31b-a0b43188f83a"
      },
      "execution_count": 217,
      "outputs": [
        {
          "output_type": "stream",
          "name": "stdout",
          "text": [
            "[[ 0  1  2  3]\n",
            " [ 4  5  6  7]\n",
            " [ 8  9 10 11]]\n",
            "[0 1 2]\n"
          ]
        },
        {
          "output_type": "error",
          "ename": "ValueError",
          "evalue": "ignored",
          "traceback": [
            "\u001b[0;31m---------------------------------------------------------------------------\u001b[0m",
            "\u001b[0;31mValueError\u001b[0m                                Traceback (most recent call last)",
            "\u001b[0;32m<ipython-input-217-fa6cbb589166>\u001b[0m in \u001b[0;36m<module>\u001b[0;34m\u001b[0m\n\u001b[1;32m      5\u001b[0m \u001b[0mprint\u001b[0m\u001b[0;34m(\u001b[0m\u001b[0mb\u001b[0m\u001b[0;34m)\u001b[0m\u001b[0;34m\u001b[0m\u001b[0;34m\u001b[0m\u001b[0m\n\u001b[1;32m      6\u001b[0m \u001b[0;34m\u001b[0m\u001b[0m\n\u001b[0;32m----> 7\u001b[0;31m \u001b[0mprint\u001b[0m\u001b[0;34m(\u001b[0m\u001b[0ma\u001b[0m\u001b[0;34m+\u001b[0m\u001b[0mb\u001b[0m\u001b[0;34m)\u001b[0m\u001b[0;34m\u001b[0m\u001b[0;34m\u001b[0m\u001b[0m\n\u001b[0m",
            "\u001b[0;31mValueError\u001b[0m: operands could not be broadcast together with shapes (3,4) (3,) "
          ]
        }
      ]
    },
    {
      "cell_type": "code",
      "source": [
        "a = np.arange(3).reshape(1,3)\n",
        "b = np.arange(4).reshape(4,1)\n",
        "\n",
        "print(a)\n",
        "print(b)\n",
        "\n",
        "print(a + b)"
      ],
      "metadata": {
        "colab": {
          "base_uri": "https://localhost:8080/"
        },
        "id": "sZkRCWOdjBrK",
        "outputId": "52105a08-ce36-4ef8-9363-ffc764d9883c"
      },
      "execution_count": 218,
      "outputs": [
        {
          "output_type": "stream",
          "name": "stdout",
          "text": [
            "[[0 1 2]]\n",
            "[[0]\n",
            " [1]\n",
            " [2]\n",
            " [3]]\n",
            "[[0 1 2]\n",
            " [1 2 3]\n",
            " [2 3 4]\n",
            " [3 4 5]]\n"
          ]
        }
      ]
    },
    {
      "cell_type": "code",
      "source": [
        "a = np.array([1])\n",
        "# shape -> (1,1)\n",
        "b = np.arange(4).reshape(2,2)\n",
        "# shape -> (2,2)\n",
        "\n",
        "print(a)\n",
        "print(b)\n",
        "\n",
        "print(a+b)"
      ],
      "metadata": {
        "colab": {
          "base_uri": "https://localhost:8080/"
        },
        "id": "QroBhl0ZjQXn",
        "outputId": "9cea49a3-f51e-48b9-e85c-269fd3205885"
      },
      "execution_count": 219,
      "outputs": [
        {
          "output_type": "stream",
          "name": "stdout",
          "text": [
            "[1]\n",
            "[[0 1]\n",
            " [2 3]]\n",
            "[[1 2]\n",
            " [3 4]]\n"
          ]
        }
      ]
    },
    {
      "cell_type": "code",
      "source": [
        "a = np.arange(12).reshape(3,4)\n",
        "b = np.arange(12).reshape(4,3)\n",
        "\n",
        "print(a)\n",
        "print(b)\n",
        "\n",
        "print(a+b)"
      ],
      "metadata": {
        "colab": {
          "base_uri": "https://localhost:8080/",
          "height": 321
        },
        "id": "EPHKX-6JjTfK",
        "outputId": "35956f72-d781-4c0e-e59c-9bdfe3cfc0a8"
      },
      "execution_count": 220,
      "outputs": [
        {
          "output_type": "stream",
          "name": "stdout",
          "text": [
            "[[ 0  1  2  3]\n",
            " [ 4  5  6  7]\n",
            " [ 8  9 10 11]]\n",
            "[[ 0  1  2]\n",
            " [ 3  4  5]\n",
            " [ 6  7  8]\n",
            " [ 9 10 11]]\n"
          ]
        },
        {
          "output_type": "error",
          "ename": "ValueError",
          "evalue": "ignored",
          "traceback": [
            "\u001b[0;31m---------------------------------------------------------------------------\u001b[0m",
            "\u001b[0;31mValueError\u001b[0m                                Traceback (most recent call last)",
            "\u001b[0;32m<ipython-input-220-c590a65467e5>\u001b[0m in \u001b[0;36m<module>\u001b[0;34m\u001b[0m\n\u001b[1;32m      5\u001b[0m \u001b[0mprint\u001b[0m\u001b[0;34m(\u001b[0m\u001b[0mb\u001b[0m\u001b[0;34m)\u001b[0m\u001b[0;34m\u001b[0m\u001b[0;34m\u001b[0m\u001b[0m\n\u001b[1;32m      6\u001b[0m \u001b[0;34m\u001b[0m\u001b[0m\n\u001b[0;32m----> 7\u001b[0;31m \u001b[0mprint\u001b[0m\u001b[0;34m(\u001b[0m\u001b[0ma\u001b[0m\u001b[0;34m+\u001b[0m\u001b[0mb\u001b[0m\u001b[0;34m)\u001b[0m\u001b[0;34m\u001b[0m\u001b[0;34m\u001b[0m\u001b[0m\n\u001b[0m",
            "\u001b[0;31mValueError\u001b[0m: operands could not be broadcast together with shapes (3,4) (4,3) "
          ]
        }
      ]
    },
    {
      "cell_type": "code",
      "source": [
        "a = np.arange(16).reshape(4,4)\n",
        "b = np.arange(4).reshape(2,2)\n",
        "\n",
        "print(a)\n",
        "print(b)\n",
        "\n",
        "print(a+b)"
      ],
      "metadata": {
        "colab": {
          "base_uri": "https://localhost:8080/",
          "height": 304
        },
        "id": "iu7awnA0jWed",
        "outputId": "42facd98-e971-47e5-f6ed-9c7b619d5ede"
      },
      "execution_count": 221,
      "outputs": [
        {
          "output_type": "stream",
          "name": "stdout",
          "text": [
            "[[ 0  1  2  3]\n",
            " [ 4  5  6  7]\n",
            " [ 8  9 10 11]\n",
            " [12 13 14 15]]\n",
            "[[0 1]\n",
            " [2 3]]\n"
          ]
        },
        {
          "output_type": "error",
          "ename": "ValueError",
          "evalue": "ignored",
          "traceback": [
            "\u001b[0;31m---------------------------------------------------------------------------\u001b[0m",
            "\u001b[0;31mValueError\u001b[0m                                Traceback (most recent call last)",
            "\u001b[0;32m<ipython-input-221-57df50a0058a>\u001b[0m in \u001b[0;36m<module>\u001b[0;34m\u001b[0m\n\u001b[1;32m      5\u001b[0m \u001b[0mprint\u001b[0m\u001b[0;34m(\u001b[0m\u001b[0mb\u001b[0m\u001b[0;34m)\u001b[0m\u001b[0;34m\u001b[0m\u001b[0;34m\u001b[0m\u001b[0m\n\u001b[1;32m      6\u001b[0m \u001b[0;34m\u001b[0m\u001b[0m\n\u001b[0;32m----> 7\u001b[0;31m \u001b[0mprint\u001b[0m\u001b[0;34m(\u001b[0m\u001b[0ma\u001b[0m\u001b[0;34m+\u001b[0m\u001b[0mb\u001b[0m\u001b[0;34m)\u001b[0m\u001b[0;34m\u001b[0m\u001b[0;34m\u001b[0m\u001b[0m\n\u001b[0m",
            "\u001b[0;31mValueError\u001b[0m: operands could not be broadcast together with shapes (4,4) (2,2) "
          ]
        }
      ]
    },
    {
      "cell_type": "markdown",
      "source": [
        "### Working with missing values\n",
        "\n"
      ],
      "metadata": {
        "id": "k0rUFjSujh7R"
      }
    },
    {
      "cell_type": "code",
      "source": [
        "# Working with missing values -> np.nan\n",
        "a = np.array([1,2,3,4,np.nan,6])\n",
        "a"
      ],
      "metadata": {
        "colab": {
          "base_uri": "https://localhost:8080/"
        },
        "id": "SXu07N1Ijijr",
        "outputId": "bd5c6efc-9502-4aea-93bc-05b652bc8628"
      },
      "execution_count": 222,
      "outputs": [
        {
          "output_type": "execute_result",
          "data": {
            "text/plain": [
              "array([ 1.,  2.,  3.,  4., nan,  6.])"
            ]
          },
          "metadata": {},
          "execution_count": 222
        }
      ]
    },
    {
      "cell_type": "code",
      "source": [
        "a[np.isnan(a)]"
      ],
      "metadata": {
        "colab": {
          "base_uri": "https://localhost:8080/"
        },
        "id": "GwXoMJU_jrRO",
        "outputId": "7114de50-00bb-4b14-fd23-a6e07d99f68f"
      },
      "execution_count": 223,
      "outputs": [
        {
          "output_type": "execute_result",
          "data": {
            "text/plain": [
              "array([nan])"
            ]
          },
          "metadata": {},
          "execution_count": 223
        }
      ]
    },
    {
      "cell_type": "code",
      "source": [
        "a[~np.isnan(a)]"
      ],
      "metadata": {
        "colab": {
          "base_uri": "https://localhost:8080/"
        },
        "id": "qSZ2zWsejtVZ",
        "outputId": "d6b74ba4-54c4-43e0-d897-8966b1bfe80f"
      },
      "execution_count": 224,
      "outputs": [
        {
          "output_type": "execute_result",
          "data": {
            "text/plain": [
              "array([1., 2., 3., 4., 6.])"
            ]
          },
          "metadata": {},
          "execution_count": 224
        }
      ]
    },
    {
      "cell_type": "code",
      "source": [
        "np.random.randint(1,100,25)"
      ],
      "metadata": {
        "colab": {
          "base_uri": "https://localhost:8080/"
        },
        "id": "EFrqvphxj3K4",
        "outputId": "a8beeeb8-8c4e-4060-8128-1e15b1c2dce5"
      },
      "execution_count": 225,
      "outputs": [
        {
          "output_type": "execute_result",
          "data": {
            "text/plain": [
              "array([63, 90, 85, 73, 47, 94, 76, 10,  1, 77, 27, 57, 39,  8, 19, 86, 39,\n",
              "       76, 82, 71, 37, 31,  9, 53, 33])"
            ]
          },
          "metadata": {},
          "execution_count": 225
        }
      ]
    },
    {
      "cell_type": "code",
      "source": [
        "np.random.random(10)"
      ],
      "metadata": {
        "colab": {
          "base_uri": "https://localhost:8080/"
        },
        "id": "eh3Hk677j_Sw",
        "outputId": "3a120c9c-de1c-4e40-b67e-75ad2b916214"
      },
      "execution_count": 227,
      "outputs": [
        {
          "output_type": "execute_result",
          "data": {
            "text/plain": [
              "array([0.91816205, 0.60998188, 0.80860766, 0.91276437, 0.88209916,\n",
              "       0.84602057, 0.28875792, 0.2749259 , 0.16172636, 0.18348976])"
            ]
          },
          "metadata": {},
          "execution_count": 227
        }
      ]
    },
    {
      "cell_type": "code",
      "source": [],
      "metadata": {
        "id": "YIGizrcZkKiV"
      },
      "execution_count": null,
      "outputs": []
    },
    {
      "cell_type": "code",
      "source": [
        "# plotting a 2D plot\n",
        "# x = y\n",
        "import matplotlib.pyplot as plt\n",
        "\n",
        "x = np.linspace(-10,10,100)\n",
        "y = x\n",
        "\n",
        "plt.plot(x,y)"
      ],
      "metadata": {
        "colab": {
          "base_uri": "https://localhost:8080/",
          "height": 282
        },
        "id": "dyZtILOskKvh",
        "outputId": "8f19bc57-18d5-420e-e86c-1389529ab709"
      },
      "execution_count": 228,
      "outputs": [
        {
          "output_type": "execute_result",
          "data": {
            "text/plain": [
              "[<matplotlib.lines.Line2D at 0x7f1c76a106d0>]"
            ]
          },
          "metadata": {},
          "execution_count": 228
        },
        {
          "output_type": "display_data",
          "data": {
            "text/plain": [
              "<Figure size 432x288 with 1 Axes>"
            ],
            "image/png": "[encoded data removed]"
          },
          "metadata": {
            "needs_background": "light"
          }
        }
      ]
    },
    {
      "cell_type": "code",
      "source": [
        "# y = x^2\n",
        "x = np.linspace(-10,10,100)\n",
        "y = x**2\n",
        "\n",
        "plt.plot(x,y)"
      ],
      "metadata": {
        "colab": {
          "base_uri": "https://localhost:8080/",
          "height": 282
        },
        "id": "zpdNJnsDkOlv",
        "outputId": "b738c156-f2a7-450c-d32f-8632a26228f0"
      },
      "execution_count": 231,
      "outputs": [
        {
          "output_type": "execute_result",
          "data": {
            "text/plain": [
              "[<matplotlib.lines.Line2D at 0x7f1c73daf6a0>]"
            ]
          },
          "metadata": {},
          "execution_count": 231
        },
        {
          "output_type": "display_data",
          "data": {
            "text/plain": [
              "<Figure size 432x288 with 1 Axes>"
            ],
            "image/png": "[encoded data removed]"
          },
          "metadata": {
            "needs_background": "light"
          }
        }
      ]
    },
    {
      "cell_type": "code",
      "source": [
        "# y = sin(x)\n",
        "x = np.linspace(-10,10,100)\n",
        "y = np.sin(x)\n",
        "\n",
        "plt.plot(x,y)"
      ],
      "metadata": {
        "colab": {
          "base_uri": "https://localhost:8080/",
          "height": 282
        },
        "id": "Y-kKFYJMkSKd",
        "outputId": "7235895e-f3b4-4d93-be35-fe02bca13221"
      },
      "execution_count": 232,
      "outputs": [
        {
          "output_type": "execute_result",
          "data": {
            "text/plain": [
              "[<matplotlib.lines.Line2D at 0x7f1c73d98e80>]"
            ]
          },
          "metadata": {},
          "execution_count": 232
        },
        {
          "output_type": "display_data",
          "data": {
            "text/plain": [
              "<Figure size 432x288 with 1 Axes>"
            ],
            "image/png": "[encoded data removed]"
          },
          "metadata": {
            "needs_background": "light"
          }
        }
      ]
    },
    {
      "cell_type": "code",
      "source": [
        "# y = xlog(x)\n",
        "x = np.linspace(-10,10,100)\n",
        "y = x * np.log(x)\n",
        "\n",
        "plt.plot(x,y)"
      ],
      "metadata": {
        "colab": {
          "base_uri": "https://localhost:8080/",
          "height": 317
        },
        "id": "V8yFMg7okiWd",
        "outputId": "b44d5139-c0f7-403b-c75b-6047c425c27d"
      },
      "execution_count": 233,
      "outputs": [
        {
          "output_type": "stream",
          "name": "stderr",
          "text": [
            "<ipython-input-233-4b3958c08378>:3: RuntimeWarning: invalid value encountered in log\n",
            "  y = x * np.log(x)\n"
          ]
        },
        {
          "output_type": "execute_result",
          "data": {
            "text/plain": [
              "[<matplotlib.lines.Line2D at 0x7f1c73d0e310>]"
            ]
          },
          "metadata": {},
          "execution_count": 233
        },
        {
          "output_type": "display_data",
          "data": {
            "text/plain": [
              "<Figure size 432x288 with 1 Axes>"
            ],
            "image/png": "[encoded data removed]"
          },
          "metadata": {
            "needs_background": "light"
          }
        }
      ]
    },
    {
      "cell_type": "code",
      "source": [
        "# sigmoid\n",
        "x = np.linspace(-10,10,100)\n",
        "y = 1/(1+np.exp(-x))\n",
        "\n",
        "plt.plot(x,y)"
      ],
      "metadata": {
        "colab": {
          "base_uri": "https://localhost:8080/",
          "height": 282
        },
        "id": "wmizk_7tkpj2",
        "outputId": "5e7cac55-3dee-488a-fb20-982e5f08f3a3"
      },
      "execution_count": 234,
      "outputs": [
        {
          "output_type": "execute_result",
          "data": {
            "text/plain": [
              "[<matplotlib.lines.Line2D at 0x7f1c73cddb50>]"
            ]
          },
          "metadata": {},
          "execution_count": 234
        },
        {
          "output_type": "display_data",
          "data": {
            "text/plain": [
              "<Figure size 432x288 with 1 Axes>"
            ],
            "image/png": "[encoded data removed]"
          },
          "metadata": {
            "needs_background": "light"
          }
        }
      ]
    },
    {
      "cell_type": "code",
      "source": [],
      "metadata": {
        "id": "Nbg6PnjMkSqw"
      },
      "execution_count": null,
      "outputs": []
    },
    {
      "cell_type": "code",
      "source": [],
      "metadata": {
        "id": "D_NgYVDyiT8o"
      },
      "execution_count": null,
      "outputs": []
    }
  ]
}